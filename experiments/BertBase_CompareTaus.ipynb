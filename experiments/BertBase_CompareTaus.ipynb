{
 "cells": [
  {
   "cell_type": "markdown",
   "id": "ea877a1a",
   "metadata": {},
   "source": [
    "### This notebook analyzes pre-trained Bert-base models and their precomputed NTK (see Train_Bert_Seeded_9_Times)\n",
    "\n",
    "You will need to fine tune Bert-base, then compute its NTK. We computed Bert's trace-NTK using a horrifically inefficient layerwise-based implementation that seperated each parameterized tensor into a seperate job. You can be much more efficient by computing the jacobian for all parameters in a single forward pass; and even better by projecting that Jacobian down using TRAK. \n",
    "\n",
    "see /scripts/BERT_NTK_oneGPU.py for how we calculated the trace-NTK exactly."
   ]
  },
  {
   "cell_type": "code",
   "execution_count": 1,
   "id": "e60d7dea",
   "metadata": {},
   "outputs": [],
   "source": [
    "import numpy as np\n",
    "import torch\n",
    "import random\n",
    "import pandas as pd\n",
    "import matplotlib.pyplot as plt\n",
    "\n",
    "from torch import nn, optim\n",
    "from torch import load\n",
    "from torch.nn import functional as F\n",
    "from torch import autograd\n",
    "\n",
    "from torchvision import datasets\n",
    "\n",
    "from torch.utils.data import TensorDataset\n",
    "from torch.utils.data import DataLoader\n",
    "\n",
    "import time\n",
    "import sys\n",
    "from pathlib import Path\n",
    "import os\n",
    "import gc\n",
    "\n",
    "\n",
    "\n",
    "from einops import rearrange\n",
    "from tqdm import tqdm\n",
    "from scipy.stats import kendalltau, spearmanr\n",
    "\n",
    "from utils2 import process_Cifar10"
   ]
  },
  {
   "cell_type": "code",
   "execution_count": 2,
   "id": "57e9586c",
   "metadata": {},
   "outputs": [
    {
     "data": {
      "text/html": [
       "<div>\n",
       "<style scoped>\n",
       "    .dataframe tbody tr th:only-of-type {\n",
       "        vertical-align: middle;\n",
       "    }\n",
       "\n",
       "    .dataframe tbody tr th {\n",
       "        vertical-align: top;\n",
       "    }\n",
       "\n",
       "    .dataframe thead th {\n",
       "        text-align: right;\n",
       "    }\n",
       "</style>\n",
       "<table border=\"1\" class=\"dataframe\">\n",
       "  <thead>\n",
       "    <tr style=\"text-align: right;\">\n",
       "      <th></th>\n",
       "      <th>sentence_sources</th>\n",
       "      <th>label</th>\n",
       "      <th>label_note</th>\n",
       "      <th>sentence</th>\n",
       "    </tr>\n",
       "  </thead>\n",
       "  <tbody>\n",
       "    <tr>\n",
       "      <th>0</th>\n",
       "      <td>gj04</td>\n",
       "      <td>1</td>\n",
       "      <td>NaN</td>\n",
       "      <td>Our friends won't buy this analysis, let alone...</td>\n",
       "    </tr>\n",
       "    <tr>\n",
       "      <th>1</th>\n",
       "      <td>gj04</td>\n",
       "      <td>1</td>\n",
       "      <td>NaN</td>\n",
       "      <td>One more pseudo generalization and I'm giving up.</td>\n",
       "    </tr>\n",
       "    <tr>\n",
       "      <th>2</th>\n",
       "      <td>gj04</td>\n",
       "      <td>1</td>\n",
       "      <td>NaN</td>\n",
       "      <td>One more pseudo generalization or I'm giving up.</td>\n",
       "    </tr>\n",
       "    <tr>\n",
       "      <th>3</th>\n",
       "      <td>gj04</td>\n",
       "      <td>1</td>\n",
       "      <td>NaN</td>\n",
       "      <td>The more we study verbs, the crazier they get.</td>\n",
       "    </tr>\n",
       "    <tr>\n",
       "      <th>4</th>\n",
       "      <td>gj04</td>\n",
       "      <td>1</td>\n",
       "      <td>NaN</td>\n",
       "      <td>Day by day the facts are getting murkier.</td>\n",
       "    </tr>\n",
       "    <tr>\n",
       "      <th>5</th>\n",
       "      <td>gj04</td>\n",
       "      <td>1</td>\n",
       "      <td>NaN</td>\n",
       "      <td>I'll fix you a drink.</td>\n",
       "    </tr>\n",
       "    <tr>\n",
       "      <th>6</th>\n",
       "      <td>gj04</td>\n",
       "      <td>1</td>\n",
       "      <td>NaN</td>\n",
       "      <td>Fred watered the plants flat.</td>\n",
       "    </tr>\n",
       "    <tr>\n",
       "      <th>7</th>\n",
       "      <td>gj04</td>\n",
       "      <td>1</td>\n",
       "      <td>NaN</td>\n",
       "      <td>Bill coughed his way out of the restaurant.</td>\n",
       "    </tr>\n",
       "    <tr>\n",
       "      <th>8</th>\n",
       "      <td>gj04</td>\n",
       "      <td>1</td>\n",
       "      <td>NaN</td>\n",
       "      <td>We're dancing the night away.</td>\n",
       "    </tr>\n",
       "    <tr>\n",
       "      <th>9</th>\n",
       "      <td>gj04</td>\n",
       "      <td>1</td>\n",
       "      <td>NaN</td>\n",
       "      <td>Herman hammered the metal flat.</td>\n",
       "    </tr>\n",
       "  </tbody>\n",
       "</table>\n",
       "</div>"
      ],
      "text/plain": [
       "  sentence_sources  label label_note  \\\n",
       "0             gj04      1        NaN   \n",
       "1             gj04      1        NaN   \n",
       "2             gj04      1        NaN   \n",
       "3             gj04      1        NaN   \n",
       "4             gj04      1        NaN   \n",
       "5             gj04      1        NaN   \n",
       "6             gj04      1        NaN   \n",
       "7             gj04      1        NaN   \n",
       "8             gj04      1        NaN   \n",
       "9             gj04      1        NaN   \n",
       "\n",
       "                                            sentence  \n",
       "0  Our friends won't buy this analysis, let alone...  \n",
       "1  One more pseudo generalization and I'm giving up.  \n",
       "2   One more pseudo generalization or I'm giving up.  \n",
       "3     The more we study verbs, the crazier they get.  \n",
       "4          Day by day the facts are getting murkier.  \n",
       "5                              I'll fix you a drink.  \n",
       "6                      Fred watered the plants flat.  \n",
       "7        Bill coughed his way out of the restaurant.  \n",
       "8                      We're dancing the night away.  \n",
       "9                    Herman hammered the metal flat.  "
      ]
     },
     "execution_count": 2,
     "metadata": {},
     "output_type": "execute_result"
    }
   ],
   "source": [
    "# because the dataset is int tsv format we have to use delimeter.\n",
    "df = pd.read_csv(\"./cola_public/raw/in_domain_train.tsv\", delimiter='\\t', header=None, names=['sentence_sources', 'label', 'label_note', 'sentence'])\n",
    "\n",
    "# creating a copy so we don't messed up our original dataset.\n",
    "data=df.copy()\n",
    "data.head(10)"
   ]
  },
  {
   "cell_type": "code",
   "execution_count": 3,
   "id": "06f04e73",
   "metadata": {},
   "outputs": [
    {
     "data": {
      "text/html": [
       "<div>\n",
       "<style scoped>\n",
       "    .dataframe tbody tr th:only-of-type {\n",
       "        vertical-align: middle;\n",
       "    }\n",
       "\n",
       "    .dataframe tbody tr th {\n",
       "        vertical-align: top;\n",
       "    }\n",
       "\n",
       "    .dataframe thead th {\n",
       "        text-align: right;\n",
       "    }\n",
       "</style>\n",
       "<table border=\"1\" class=\"dataframe\">\n",
       "  <thead>\n",
       "    <tr style=\"text-align: right;\">\n",
       "      <th></th>\n",
       "      <th>label</th>\n",
       "      <th>sentence</th>\n",
       "    </tr>\n",
       "  </thead>\n",
       "  <tbody>\n",
       "    <tr>\n",
       "      <th>0</th>\n",
       "      <td>1</td>\n",
       "      <td>Our friends won't buy this analysis, let alone...</td>\n",
       "    </tr>\n",
       "    <tr>\n",
       "      <th>1</th>\n",
       "      <td>1</td>\n",
       "      <td>One more pseudo generalization and I'm giving up.</td>\n",
       "    </tr>\n",
       "    <tr>\n",
       "      <th>2</th>\n",
       "      <td>1</td>\n",
       "      <td>One more pseudo generalization or I'm giving up.</td>\n",
       "    </tr>\n",
       "    <tr>\n",
       "      <th>3</th>\n",
       "      <td>1</td>\n",
       "      <td>The more we study verbs, the crazier they get.</td>\n",
       "    </tr>\n",
       "    <tr>\n",
       "      <th>4</th>\n",
       "      <td>1</td>\n",
       "      <td>Day by day the facts are getting murkier.</td>\n",
       "    </tr>\n",
       "  </tbody>\n",
       "</table>\n",
       "</div>"
      ],
      "text/plain": [
       "   label                                           sentence\n",
       "0      1  Our friends won't buy this analysis, let alone...\n",
       "1      1  One more pseudo generalization and I'm giving up.\n",
       "2      1   One more pseudo generalization or I'm giving up.\n",
       "3      1     The more we study verbs, the crazier they get.\n",
       "4      1          Day by day the facts are getting murkier."
      ]
     },
     "execution_count": 3,
     "metadata": {},
     "output_type": "execute_result"
    }
   ],
   "source": [
    "data.drop(['sentence_sources','label_note'],axis=1,inplace=True)\n",
    "sentences=data.sentence.values\n",
    "labels = data.label.values\n",
    "data.head()"
   ]
  },
  {
   "cell_type": "code",
   "execution_count": 4,
   "id": "a77a6d8a",
   "metadata": {},
   "outputs": [
    {
     "name": "stdout",
     "output_type": "stream",
     "text": [
      " Original:  Our friends won't buy this analysis, let alone the next one we propose.\n",
      "Tokenized:  ['our', 'friends', 'won', \"'\", 't', 'buy', 'this', 'analysis', ',', 'let', 'alone', 'the', 'next', 'one', 'we', 'propose', '.']\n",
      "Token IDs:  [2256, 2814, 2180, 1005, 1056, 4965, 2023, 4106, 1010, 2292, 2894, 1996, 2279, 2028, 2057, 16599, 1012]\n"
     ]
    }
   ],
   "source": [
    "from transformers import BertTokenizer\n",
    "# using the low level BERT for our task.\n",
    "tokenizer = BertTokenizer.from_pretrained('bert-base-uncased', do_lower_case=True)\n",
    "\n",
    "# Printing the original sentence.\n",
    "print(' Original: ', sentences[0])\n",
    "\n",
    "# Printing the tokenized sentence in form of list.\n",
    "print('Tokenized: ', tokenizer.tokenize(sentences[0]))\n",
    "\n",
    "# Print the sentence mapped to token ids.\n",
    "print('Token IDs: ', tokenizer.convert_tokens_to_ids(tokenizer.tokenize(sentences[0])))"
   ]
  },
  {
   "cell_type": "code",
   "execution_count": 5,
   "id": "9c1e8632",
   "metadata": {},
   "outputs": [],
   "source": [
    "input_ids = []\n",
    "for sent in sentences:\n",
    "    # so basically encode tokenizing , mapping sentences to thier token ids after adding special tokens.\n",
    "    encoded_sent = tokenizer.encode(\n",
    "                        sent,                      # Sentence which are encoding.\n",
    "                        add_special_tokens = True, # Adding special tokens '[CLS]' and '[SEP]'\n",
    "\n",
    "                         )\n",
    "    \n",
    " \n",
    "    input_ids.append(encoded_sent)"
   ]
  },
  {
   "cell_type": "code",
   "execution_count": 6,
   "id": "1d9cb84a",
   "metadata": {},
   "outputs": [
    {
     "name": "stderr",
     "output_type": "stream",
     "text": [
      "2023-09-13 17:23:46.064507: I tensorflow/core/platform/cpu_feature_guard.cc:182] This TensorFlow binary is optimized to use available CPU instructions in performance-critical operations.\n",
      "To enable the following instructions: AVX2 AVX512F FMA, in other operations, rebuild TensorFlow with the appropriate compiler flags.\n",
      "2023-09-13 17:23:49.141944: W tensorflow/compiler/tf2tensorrt/utils/py_utils.cc:38] TF-TRT Warning: Could not find TensorRT\n"
     ]
    }
   ],
   "source": [
    "from tensorflow.keras.preprocessing.sequence import pad_sequences\n",
    "\n",
    "MAX_LEN = 128\n",
    "\n",
    "input_ids = pad_sequences(input_ids, maxlen=MAX_LEN , truncating=\"post\", padding=\"post\")"
   ]
  },
  {
   "cell_type": "code",
   "execution_count": 7,
   "id": "f10edce0",
   "metadata": {},
   "outputs": [],
   "source": [
    "attention_masks = []\n",
    "\n",
    "for sent in input_ids:\n",
    "    \n",
    "    # Generating attention mask for sentences.\n",
    "    #   - when there is 0 present as token id we are going to set mask as 0.\n",
    "    #   - we are going to set mask 1 for all non-zero positive input id.\n",
    "    att_mask = [int(token_id > 0) for token_id in sent]\n",
    "    \n",
    "   \n",
    "    attention_masks.append(att_mask)"
   ]
  },
  {
   "cell_type": "code",
   "execution_count": 8,
   "id": "2ab10b3c",
   "metadata": {},
   "outputs": [],
   "source": [
    "from sklearn.model_selection import train_test_split\n",
    "\n",
    "train_inputs, validation_inputs, train_labels, validation_labels = train_test_split(input_ids, labels, test_size=0.2, random_state=0)\n",
    "train_masks, validation_masks, _, _ = train_test_split(attention_masks, labels,test_size=0.2, random_state=0)"
   ]
  },
  {
   "cell_type": "code",
   "execution_count": 9,
   "id": "9e0a21a4",
   "metadata": {},
   "outputs": [],
   "source": [
    "#changing the numpy arrays into tensors for working on GPU. \n",
    "train_inputs = torch.tensor(train_inputs)\n",
    "validation_inputs = torch.tensor(validation_inputs)\n",
    "\n",
    "train_labels = torch.tensor(train_labels)\n",
    "validation_labels = torch.tensor(validation_labels)\n",
    "\n",
    "train_masks = torch.tensor(train_masks)\n",
    "validation_masks = torch.tensor(validation_masks)\n",
    "\n",
    "from torch.utils.data import TensorDataset, DataLoader, RandomSampler, SequentialSampler\n",
    "\n",
    "# Deciding the batch size for training.\n",
    "\n",
    "batch_size = 32\n",
    "\n",
    "#DataLoader for our training set.\n",
    "train_data = TensorDataset(train_inputs, train_masks, train_labels)\n",
    "train_sampler = SequentialSampler(train_data)\n",
    "train_dataloader = DataLoader(train_data, sampler=train_sampler, batch_size=batch_size, shuffle=False)"
   ]
  },
  {
   "cell_type": "code",
   "execution_count": 10,
   "id": "c6a2c62c",
   "metadata": {},
   "outputs": [],
   "source": [
    "NTK_seedless = torch.load(os.path.join('/rcfs/projects/task0_pmml/BERT/one_gpu_development/NTKs','NTK_seedless.pt')).cpu().numpy()\n",
    "NTK_seed1 = torch.load(os.path.join('/rcfs/projects/task0_pmml/BERT/one_gpu_development/NTKs','NTK_seed1.pt')).cpu().numpy()\n",
    "NTK_seed2 = torch.load(os.path.join('/rcfs/projects/task0_pmml/BERT/one_gpu_development/NTKs','NTK_seed2.pt')).cpu().numpy()\n",
    "NTK_seed3 = torch.load(os.path.join('/rcfs/projects/task0_pmml/BERT/one_gpu_development/NTKs','NTK_seed3.pt')).cpu().numpy()"
   ]
  },
  {
   "cell_type": "code",
   "execution_count": 11,
   "id": "e3b6cb07",
   "metadata": {},
   "outputs": [],
   "source": [
    "N_test_DATAPOINTS = len(NTK_seed1) - len(train_inputs)\n",
    "\n",
    "# DataLoader for our validation(test) set.\n",
    "validation_data = TensorDataset(validation_inputs[0:N_test_DATAPOINTS], validation_masks[0:N_test_DATAPOINTS], validation_labels[0:N_test_DATAPOINTS])\n",
    "validation_labels = validation_labels[0:N_test_DATAPOINTS]\n",
    "validation_sampler = SequentialSampler(validation_data)\n",
    "validation_dataloader = DataLoader(validation_data, sampler=validation_sampler, batch_size=batch_size, shuffle=False)"
   ]
  },
  {
   "cell_type": "code",
   "execution_count": 12,
   "id": "adcdfe15",
   "metadata": {},
   "outputs": [],
   "source": [
    "all_inputs = torch.cat([train_inputs,validation_inputs[0:N_test_DATAPOINTS]])\n",
    "all_masks = torch.cat([train_masks,validation_masks[0:N_test_DATAPOINTS]])\n",
    "all_labels = torch.cat([train_labels,validation_labels[0:N_test_DATAPOINTS]])\n",
    "\n",
    "all_data = TensorDataset(all_inputs, all_masks, all_labels)\n",
    "all_data_sampler = SequentialSampler(all_data)\n",
    "all_dataloader = DataLoader(all_data, sampler=all_data_sampler, batch_size=1, shuffle=False)"
   ]
  },
  {
   "cell_type": "code",
   "execution_count": 13,
   "id": "8db26012",
   "metadata": {},
   "outputs": [
    {
     "name": "stderr",
     "output_type": "stream",
     "text": [
      "Some weights of BertForSequenceClassification were not initialized from the model checkpoint at bert-base-uncased and are newly initialized: ['classifier.weight', 'classifier.bias']\n",
      "You should probably TRAIN this model on a down-stream task to be able to use it for predictions and inference.\n",
      "Some weights of BertForSequenceClassification were not initialized from the model checkpoint at bert-base-uncased and are newly initialized: ['classifier.weight', 'classifier.bias']\n",
      "You should probably TRAIN this model on a down-stream task to be able to use it for predictions and inference.\n",
      "Some weights of BertForSequenceClassification were not initialized from the model checkpoint at bert-base-uncased and are newly initialized: ['classifier.weight', 'classifier.bias']\n",
      "You should probably TRAIN this model on a down-stream task to be able to use it for predictions and inference.\n",
      "Some weights of BertForSequenceClassification were not initialized from the model checkpoint at bert-base-uncased and are newly initialized: ['classifier.weight', 'classifier.bias']\n",
      "You should probably TRAIN this model on a down-stream task to be able to use it for predictions and inference.\n"
     ]
    },
    {
     "data": {
      "text/plain": [
       "BertForSequenceClassification(\n",
       "  (bert): BertModel(\n",
       "    (embeddings): BertEmbeddings(\n",
       "      (word_embeddings): Embedding(30522, 768, padding_idx=0)\n",
       "      (position_embeddings): Embedding(512, 768)\n",
       "      (token_type_embeddings): Embedding(2, 768)\n",
       "      (LayerNorm): LayerNorm((768,), eps=1e-12, elementwise_affine=True)\n",
       "      (dropout): Dropout(p=0.1, inplace=False)\n",
       "    )\n",
       "    (encoder): BertEncoder(\n",
       "      (layer): ModuleList(\n",
       "        (0-11): 12 x BertLayer(\n",
       "          (attention): BertAttention(\n",
       "            (self): BertSelfAttention(\n",
       "              (query): Linear(in_features=768, out_features=768, bias=True)\n",
       "              (key): Linear(in_features=768, out_features=768, bias=True)\n",
       "              (value): Linear(in_features=768, out_features=768, bias=True)\n",
       "              (dropout): Dropout(p=0.1, inplace=False)\n",
       "            )\n",
       "            (output): BertSelfOutput(\n",
       "              (dense): Linear(in_features=768, out_features=768, bias=True)\n",
       "              (LayerNorm): LayerNorm((768,), eps=1e-12, elementwise_affine=True)\n",
       "              (dropout): Dropout(p=0.1, inplace=False)\n",
       "            )\n",
       "          )\n",
       "          (intermediate): BertIntermediate(\n",
       "            (dense): Linear(in_features=768, out_features=3072, bias=True)\n",
       "            (intermediate_act_fn): GELUActivation()\n",
       "          )\n",
       "          (output): BertOutput(\n",
       "            (dense): Linear(in_features=3072, out_features=768, bias=True)\n",
       "            (LayerNorm): LayerNorm((768,), eps=1e-12, elementwise_affine=True)\n",
       "            (dropout): Dropout(p=0.1, inplace=False)\n",
       "          )\n",
       "        )\n",
       "      )\n",
       "    )\n",
       "    (pooler): BertPooler(\n",
       "      (dense): Linear(in_features=768, out_features=768, bias=True)\n",
       "      (activation): Tanh()\n",
       "    )\n",
       "  )\n",
       "  (dropout): Dropout(p=0.1, inplace=False)\n",
       "  (classifier): Linear(in_features=768, out_features=2, bias=True)\n",
       ")"
      ]
     },
     "execution_count": 13,
     "metadata": {},
     "output_type": "execute_result"
    }
   ],
   "source": [
    "from transformers import BertForSequenceClassification, AdamW, BertConfig\n",
    "\n",
    "\n",
    "model1 = BertForSequenceClassification.from_pretrained(\n",
    "    \"bert-base-uncased\",\n",
    "    num_labels = 2,   \n",
    "    output_attentions = False,\n",
    "    output_hidden_states = False,\n",
    ")\n",
    "\n",
    "model2 = BertForSequenceClassification.from_pretrained(\n",
    "    \"bert-base-uncased\",\n",
    "    num_labels = 2,   \n",
    "    output_attentions = False,\n",
    "    output_hidden_states = False,\n",
    ")\n",
    "\n",
    "model3 = BertForSequenceClassification.from_pretrained(\n",
    "    \"bert-base-uncased\",\n",
    "    num_labels = 2,   \n",
    "    output_attentions = False,\n",
    "    output_hidden_states = False,\n",
    ")\n",
    "\n",
    "model_seedless = BertForSequenceClassification.from_pretrained(\n",
    "    \"bert-base-uncased\",\n",
    "    num_labels = 2,   \n",
    "    output_attentions = False,\n",
    "    output_hidden_states = False,\n",
    ")\n",
    "\n",
    "\n",
    "ckpts = [torch.load('/rcfs/projects/task0_pmml/BERT/model_frozen.pt'),\n",
    "        torch.load('/rcfs/projects/task0_pmml/BERT/one_gpu_development/MANY_BERT_MODELS/BERT-base_SEED1.pt'),\n",
    "        torch.load('/rcfs/projects/task0_pmml/BERT/one_gpu_development/MANY_BERT_MODELS/BERT-base_SEED2.pt'),\n",
    "        torch.load('/rcfs/projects/task0_pmml/BERT/one_gpu_development/MANY_BERT_MODELS/BERT-base_SEED3.pt')]\n",
    "\n",
    "for ckpt in ckpts:\n",
    "    ckpt.pop('bert.embeddings.position_ids')\n",
    "        \n",
    "model_seedless.load_state_dict(ckpts[0])\n",
    "model1.load_state_dict(ckpts[1])\n",
    "model2.load_state_dict(ckpts[2])\n",
    "model3.load_state_dict(ckpts[3])\n",
    "# Running the model on GPU.\n",
    "\n",
    "model_seedless.to('cuda')\n",
    "model1.to('cuda')\n",
    "model2.to('cuda')\n",
    "model3.to('cuda')"
   ]
  },
  {
   "cell_type": "code",
   "execution_count": 14,
   "id": "ca1f5e92",
   "metadata": {},
   "outputs": [],
   "source": [
    "def get_NN_outputs(model):\n",
    "    Ys = []\n",
    "    device='cuda'\n",
    "    for step,batch in enumerate(validation_dataloader):\n",
    "        #getting ids,mask,labes for every batch\n",
    "        b_input_ids = batch[0].to(device)\n",
    "        b_input_mask = batch[1].to(device)\n",
    "        b_labels = batch[2].to(device)\n",
    "    \n",
    "        outputs = model(b_input_ids, \n",
    "                token_type_ids=None, \n",
    "                attention_mask=b_input_mask, \n",
    "                labels=b_labels)\n",
    "        \n",
    "        output = outputs[1]\n",
    "        y = F.softmax(output,dim=1) #1D\n",
    "        Ys.append(y.cpu().detach().numpy()) \n",
    "    NN_ys = np.concatenate(Ys)\n",
    "    return NN_ys\n",
    "\n",
    "def get_NN_outputs_train(model):\n",
    "    Ys = []\n",
    "    device='cuda'\n",
    "    for step,batch in enumerate(train_dataloader):\n",
    "        #getting ids,mask,labes for every batch\n",
    "        b_input_ids = batch[0].to(device)\n",
    "        b_input_mask = batch[1].to(device)\n",
    "        b_labels = batch[2].to(device)\n",
    "    \n",
    "        outputs = model(b_input_ids, \n",
    "                token_type_ids=None, \n",
    "                attention_mask=b_input_mask, \n",
    "                labels=b_labels)\n",
    "        \n",
    "        output = outputs[1]\n",
    "        y = F.softmax(output,dim=1) #1D\n",
    "        Ys.append(y.cpu().detach().numpy()) \n",
    "    NN_ys = np.concatenate(Ys)\n",
    "    return NN_ys"
   ]
  },
  {
   "cell_type": "code",
   "execution_count": 15,
   "id": "1178420a",
   "metadata": {},
   "outputs": [],
   "source": [
    "NNseedless_ys = get_NN_outputs(model_seedless)\n",
    "NN1_ys = get_NN_outputs(model1)\n",
    "NN2_ys = get_NN_outputs(model2)\n",
    "NN3_ys = get_NN_outputs(model3)\n",
    "\n",
    "NNseedless_pred = np.argmax(NNseedless_ys,axis=1)\n",
    "NNseed1_pred = np.argmax(NN1_ys,axis=1)\n",
    "NNseed2_pred = np.argmax(NN2_ys,axis=1)\n",
    "NNseed3_pred = np.argmax(NN3_ys,axis=1)\n",
    "\n",
    "confidences_seedless = np.array([NNseedless_ys[i,validation_labels[i].item()] for i in range(len(NNseedless_ys))])\n",
    "confidences1 = np.array([NN1_ys[i,validation_labels[i].item()] for i in range(len(NN1_ys))])\n",
    "confidences2 = np.array([NN2_ys[i,validation_labels[i].item()] for i in range(len(NN2_ys))])\n",
    "confidences3 = np.array([NN3_ys[i,validation_labels[i].item()] for i in range(len(NN3_ys))])"
   ]
  },
  {
   "cell_type": "code",
   "execution_count": 16,
   "id": "63d3b787",
   "metadata": {},
   "outputs": [
    {
     "name": "stdout",
     "output_type": "stream",
     "text": [
      "Test Accs: 0.8338 +/- 0.0008\n"
     ]
    }
   ],
   "source": [
    "test_accs = []\n",
    "test_accs.append(((NNseedless_pred == validation_labels.cpu().numpy()).sum())/len(NNseedless_pred))\n",
    "test_accs.append(((NNseed1_pred == validation_labels.cpu().numpy()).sum())/len(NNseedless_pred))\n",
    "test_accs.append(((NNseed2_pred == validation_labels.cpu().numpy()).sum())/len(NNseedless_pred))\n",
    "test_accs.append(((NNseed3_pred == validation_labels.cpu().numpy()).sum())/len(NNseedless_pred))\n",
    "\n",
    "test_accs = np.array(test_accs)\n",
    "NNtest_accs = test_accs\n",
    "print('Test Accs: {:.4f} +/- {:.4f}'.format(test_accs.mean(),test_accs.std()/np.sqrt(len(test_accs))))"
   ]
  },
  {
   "cell_type": "code",
   "execution_count": 17,
   "id": "7efcc49a",
   "metadata": {},
   "outputs": [],
   "source": [
    "from sklearn.linear_model import SGDClassifier\n",
    "from joblib import dump, load"
   ]
  },
  {
   "cell_type": "code",
   "execution_count": 18,
   "id": "0ac1c26d",
   "metadata": {},
   "outputs": [
    {
     "data": {
      "text/plain": [
       "tensor([1, 1, 1,  ..., 1, 1, 0])"
      ]
     },
     "execution_count": 18,
     "metadata": {},
     "output_type": "execute_result"
    }
   ],
   "source": [
    "validation_labels"
   ]
  },
  {
   "cell_type": "code",
   "execution_count": 19,
   "id": "ee60aa99",
   "metadata": {},
   "outputs": [],
   "source": [
    "train_labels_regression = train_labels.detach().cpu().numpy().copy()\n",
    "train_labels_regression[train_labels_regression==0] = 0\n",
    "\n",
    "logit_performance  = []\n",
    "\n",
    "def fit_and_scale(K0,K1):\n",
    "    LogKernelRegression = SGDClassifier(loss='log_loss',penalty='l2',alpha=1e-2,fit_intercept=True,class_weight=\"balanced\")\n",
    "    LogKernelRegression.fit(K0,train_labels_regression)\n",
    "    weights = LogKernelRegression.coef_\n",
    "    intercept = LogKernelRegression.intercept_\n",
    "    y = LogKernelRegression.predict_proba(K1)\n",
    "    logit_performancethis = (LogKernelRegression.predict(K1)==validation_labels.cpu().numpy()[0:len(y)]).sum()/len(y)\n",
    "    print(logit_performancethis)\n",
    "    logit_performance.append(logit_performancethis)\n",
    "    return weights, intercept, y\n",
    "\n"
   ]
  },
  {
   "cell_type": "code",
   "execution_count": 20,
   "id": "762a396c",
   "metadata": {},
   "outputs": [],
   "source": [
    "def Normalize(NTK,train_data_index=len(train_inputs)):\n",
    "    K0 =NTK[0:train_data_index,0:train_data_index] #this is the train data gram matrix\n",
    "    K1 = NTK[train_data_index::,0:train_data_index] #this is the test-data's sim to train data\n",
    "    K2 = NTK[train_data_index::,train_data_index::]\n",
    "\n",
    "    K1 = K1 / (np.sqrt(np.diagonal(K0))[None,:]) / (np.sqrt(np.diagonal(K2))[:,None])\n",
    "    K0 = K0 / np.sqrt(np.diagonal(K0))[None,:] / np.sqrt(np.diagonal(K0))[:,None]\n",
    "    return K0, K1\n",
    "\n",
    "def Extract(NTK,train_data_index=len(train_inputs)):\n",
    "    K0 =NTK[0:train_data_index,0:train_data_index] #this is the train data gram matrix\n",
    "    K1 = NTK[train_data_index::,0:train_data_index] #this is the test-data's sim to train data\n",
    "    \n",
    "    K1 = K1 / K0.std()\n",
    "    K0 = K0 / K0.std()\n",
    "    return K0,K1\n",
    "\n"
   ]
  },
  {
   "cell_type": "markdown",
   "id": "55fddcde",
   "metadata": {},
   "source": [
    "# Run ALL Above"
   ]
  },
  {
   "cell_type": "markdown",
   "id": "d8a16673",
   "metadata": {},
   "source": [
    "## Load and extract NTK"
   ]
  },
  {
   "cell_type": "markdown",
   "id": "87c035fc",
   "metadata": {},
   "source": [
    "### pNTK"
   ]
  },
  {
   "cell_type": "code",
   "execution_count": 21,
   "id": "2ff4e52c",
   "metadata": {},
   "outputs": [],
   "source": [
    "K0_seedless, K1_seedless = Normalize(NTK_seedless)\n",
    "K0_seed1, K1_seed1 = Normalize(NTK_seed1)\n",
    "K0_seed2, K1_seed2 = Normalize(NTK_seed2)\n",
    "K0_seed3, K1_seed3 = Normalize(NTK_seed3)"
   ]
  },
  {
   "cell_type": "markdown",
   "id": "6e9c8e5e",
   "metadata": {},
   "source": [
    "### pNTK0"
   ]
  },
  {
   "cell_type": "code",
   "execution_count": 22,
   "id": "2ff15795",
   "metadata": {},
   "outputs": [],
   "source": [
    "K0_0seedless, K1_0seedless = Extract(NTK_seedless)\n",
    "K0_0seed1, K1_0seed1 = Extract(NTK_seed1)\n",
    "K0_0seed2, K1_0seed2 = Extract(NTK_seed2)\n",
    "K0_0seed3, K1_0seed3 = Extract(NTK_seed3)"
   ]
  },
  {
   "cell_type": "markdown",
   "id": "ec1641a3",
   "metadata": {},
   "source": [
    "### CK"
   ]
  },
  {
   "cell_type": "code",
   "execution_count": 23,
   "id": "e8ad0924",
   "metadata": {},
   "outputs": [],
   "source": [
    "CK_list=[]\n",
    "for item in ['seedless','seed1','seed2','seed3']:\n",
    "    if item == 'seedless':\n",
    "        path = f'/rcfs/projects/task0_pmml/BERT/testDDP_additivecomponents/classifier.weight-0.pt'\n",
    "    else:\n",
    "        path = f'/rcfs/projects/task0_pmml/BERT/one_gpu_development/testDDP_additivecomponents_{item}/classifier.weight-0.pt'\n",
    "    CK = torch.load(path,map_location='cuda')\n",
    "    CK = torch.matmul(CK,CK.T)\n",
    "    CK_list.append(CK.cpu())\n",
    "\n",
    "CK_seedless = CK_list[0].cpu().numpy()[0:8192,0:8192]\n",
    "CK_seed1 = CK_list[1].cpu().numpy()[0:8192,0:8192]\n",
    "CK_seed2 = CK_list[2].cpu().numpy()[0:8192,0:8192]\n",
    "CK_seed3 = CK_list[3].cpu().numpy()[0:8192,0:8192]\n",
    "del CK_list\n",
    "\n",
    "K0_CKseedless, K1_CKseedless = Normalize(CK_seedless)\n",
    "K0_CKseed1, K1_CKseed1 = Normalize(CK_seed1)\n",
    "K0_CKseed2, K1_CKseed2 = Normalize(CK_seed2)\n",
    "K0_CKseed3, K1_CKseed3 = Normalize(CK_seed3)"
   ]
  },
  {
   "cell_type": "markdown",
   "id": "7c902d50",
   "metadata": {},
   "source": [
    "### Embedding"
   ]
  },
  {
   "cell_type": "code",
   "execution_count": 24,
   "id": "fb2e803b",
   "metadata": {},
   "outputs": [],
   "source": [
    "Em_seedless = np.load(f'/rcfs/projects/task0_pmml/BERT/Em_kernels/seedless.npy')\n",
    "Em_seed1 = np.load(f'/rcfs/projects/task0_pmml/BERT/Em_kernels/seed1.npy')\n",
    "Em_seed2 = np.load(f'/rcfs/projects/task0_pmml/BERT/Em_kernels/seed2.npy')\n",
    "Em_seed3 = np.load(f'/rcfs/projects/task0_pmml/BERT/Em_kernels/seed3.npy')\n",
    "\n",
    "\n",
    "K0_Emseedless, K1_Emseedless = Normalize(Em_seedless)\n",
    "K0_Emseed1, K1_Emseed1 = Normalize(Em_seed1)\n",
    "K0_Emseed2, K1_Emseed2 = Normalize(Em_seed2)\n",
    "K0_Emseed3, K1_Emseed3 = Normalize(Em_seed3)"
   ]
  },
  {
   "cell_type": "markdown",
   "id": "03a20bee",
   "metadata": {},
   "source": [
    "### proj-trNTK"
   ]
  },
  {
   "cell_type": "code",
   "execution_count": 25,
   "id": "29574e9d",
   "metadata": {},
   "outputs": [],
   "source": [
    "def load_proj_trNTK(i,path='/rcfs/projects/task0_pmml/proj_trNTK/BERT/BERT_trNTK'):\n",
    "    trNTK=0\n",
    "    for j in range(2):\n",
    "        #I guess I used the wrong indices\n",
    "        A = torch.from_numpy(np.load(f'{path}/{i}/grads_{j}.mmap'))[0:8192,:]\n",
    "        trNTK+=torch.matmul(A,A.T)\n",
    "    return trNTK.cpu().numpy()\n",
    "\n",
    "proj_trNTK_seedless = load_proj_trNTK(0,)"
   ]
  },
  {
   "cell_type": "code",
   "execution_count": 26,
   "id": "2a06fdbf",
   "metadata": {},
   "outputs": [],
   "source": [
    "def load_proj_trNTK(i,path='/rcfs/projects/task0_pmml/proj_trNTK/BERT/BERT_trNTK'):\n",
    "    trNTK=0\n",
    "    for j in range(2):\n",
    "        #I guess I used the wrong indices\n",
    "        A = torch.from_numpy(np.load(f'{path}/{i}/grads_{j}.mmap'))[0:8192,:]\n",
    "        trNTK+=torch.matmul(A,A.T)\n",
    "    return trNTK.cpu().numpy()\n",
    "\n",
    "proj_trNTK_seedless = load_proj_trNTK(0,)\n",
    "proj_trNTK_seed1 = load_proj_trNTK(1,)\n",
    "proj_trNTK_seed2 = load_proj_trNTK(2,)\n",
    "proj_trNTK_seed3 = load_proj_trNTK(3,)\n",
    "\n",
    "\n",
    "K0_proj_trNTKseedless, K1_proj_trNTKseedless = Normalize(proj_trNTK_seedless)\n",
    "K0_proj_trNTKseed1, K1_proj_trNTKseed1 = Normalize(proj_trNTK_seed1)\n",
    "K0_proj_trNTKseed2, K1_proj_trNTKseed2 = Normalize(proj_trNTK_seed2)\n",
    "K0_proj_trNTKseed3, K1_proj_trNTKseed3 = Normalize(proj_trNTK_seed3)"
   ]
  },
  {
   "cell_type": "markdown",
   "id": "6fe004ce",
   "metadata": {},
   "source": [
    "### Proj-pNTK"
   ]
  },
  {
   "cell_type": "code",
   "execution_count": 27,
   "id": "2bb00ae0",
   "metadata": {},
   "outputs": [],
   "source": [
    "def load_proj_pNTK(i,path='/rcfs/projects/task0_pmml/proj_trNTK/BERT/BERT_pNTKtest/'):\n",
    "    trNTK=0\n",
    "    A = torch.from_numpy(np.load(f'{path}/{i}/grads.mmap'))[0:8192,:]\n",
    "    trNTK+=torch.matmul(A,A.T)\n",
    "    return trNTK.cpu().numpy()\n",
    "\n",
    "proj_pNTK_seedless = load_proj_pNTK(0,)\n",
    "proj_pNTK_seed1 = load_proj_pNTK(1,)\n",
    "proj_pNTK_seed2 = load_proj_pNTK(2,)\n",
    "proj_pNTK_seed3 = load_proj_pNTK(3,)\n",
    "\n",
    "\n",
    "K0_proj_pNTKseedless, K1_proj_pNTKseedless = Normalize(proj_pNTK_seedless)\n",
    "K0_proj_pNTKseed1, K1_proj_pNTKseed1 = Normalize(proj_pNTK_seed1)\n",
    "K0_proj_pNTKseed2, K1_proj_pNTKseed2 = Normalize(proj_pNTK_seed2)\n",
    "K0_proj_pNTKseed3, K1_proj_pNTKseed3 = Normalize(proj_pNTK_seed3)"
   ]
  },
  {
   "cell_type": "markdown",
   "id": "91b2afb8",
   "metadata": {},
   "source": [
    "### TraceIn"
   ]
  },
  {
   "cell_type": "code",
   "execution_count": 28,
   "id": "c7c3fbcc",
   "metadata": {},
   "outputs": [],
   "source": [
    "from tqdm import tqdm\n",
    "lossfn = torch.nn.NLLLoss()\n",
    "def Get_dL_dF(model,device='cuda'):\n",
    "    all_dL_dF=[]\n",
    "    for batch in tqdm(all_dataloader):\n",
    "        b_input_ids = batch[0].to(device)\n",
    "        b_input_mask = batch[1].to(device)\n",
    "        b_labels = batch[2].to(device)\n",
    "\n",
    "        outputs = model(b_input_ids, \n",
    "                token_type_ids=None, \n",
    "                attention_mask=b_input_mask, \n",
    "                labels=b_labels)\n",
    "        \n",
    "        output = outputs[1]\n",
    "        loss = lossfn(output,b_labels)\n",
    "        grad = torch.autograd.grad(loss,output)[0]\n",
    "        all_dL_dF.append(grad.cpu())\n",
    "        \n",
    "    return torch.cat(all_dL_dF)\n",
    "\n",
    "def CalculateTraceIn(model,outer_path):\n",
    "    \n",
    "    dL_dF_seedless = Get_dL_dF(model)\n",
    "    \n",
    "    NTK_0 = 0\n",
    "    NTK_1 = 0\n",
    "    for path in tqdm(os.listdir(outer_path)):\n",
    "        if '-0.pt' in path:\n",
    "            NTK_0 += torch.load(outer_path+path,map_location='cpu')[0:8192,0:8192]\n",
    "        if '-1.pt' in path:\n",
    "            NTK_1 += torch.load(outer_path+path,map_location='cpu')[0:8192,0:8192]\n",
    "        \n",
    "    TraceIn = 0 \n",
    "    i = 0\n",
    "    TraceIn += dL_dF_seedless[:,i][:,None] * NTK_0[0:8192,0:8192] * dL_dF_seedless[:,i][None,:]\n",
    "    i = 1\n",
    "    TraceIn += dL_dF_seedless[:,i][:,None] * NTK_1[0:8192,0:8192]  * dL_dF_seedless[:,i][None,:]\n",
    "    \n",
    "    return TraceIn\n",
    "\n"
   ]
  },
  {
   "cell_type": "code",
   "execution_count": 29,
   "id": "db11e760",
   "metadata": {},
   "outputs": [],
   "source": [
    "# TraceIn_seedless = CalculateTraceIn(model_seedless,'/rcfs/projects/task0_pmml/BERT/testDDP_additivecomponents/')\n",
    "# TraceIn_seed1 = CalculateTraceIn(model1,'/rcfs/projects/task0_pmml/BERT/one_gpu_development/testDDP_additivecomponents_seed1/')\n",
    "# TraceIn_seed2 = CalculateTraceIn(model2,'/rcfs/projects/task0_pmml/BERT/one_gpu_development/testDDP_additivecomponents_seed2/')\n",
    "# TraceIn_seed3 = CalculateTraceIn(model3,'/rcfs/projects/task0_pmml/BERT/one_gpu_development/testDDP_additivecomponents_seed3/')\n",
    "\n",
    "# np.save('/rcfs/projects/task0_pmml/BERT/one_gpu_development/TraceIn_seedless.npy',TraceIn_seedless.cpu().numpy())\n",
    "# np.save('/rcfs/projects/task0_pmml/BERT/one_gpu_development/TraceIn1.npy',TraceIn_seed1.cpu().numpy())\n",
    "# np.save('/rcfs/projects/task0_pmml/BERT/one_gpu_development/TraceIn2.npy',TraceIn_seed2.cpu().numpy())\n",
    "# np.save('/rcfs/projects/task0_pmml/BERT/one_gpu_development/TraceIn3.npy',TraceIn_seed3.cpu().numpy())"
   ]
  },
  {
   "cell_type": "code",
   "execution_count": 30,
   "id": "f056189b",
   "metadata": {},
   "outputs": [],
   "source": [
    "TraceIn_seedless = np.load('/rcfs/projects/task0_pmml/BERT/one_gpu_development/TraceIn_seedless.npy')\n",
    "TraceIn_seed1 = np.load('/rcfs/projects/task0_pmml/BERT/one_gpu_development/TraceIn1.npy')\n",
    "TraceIn_seed2 = np.load('/rcfs/projects/task0_pmml/BERT/one_gpu_development/TraceIn2.npy')\n",
    "TraceIn_seed3 = np.load('/rcfs/projects/task0_pmml/BERT/one_gpu_development/TraceIn3.npy')\n",
    "\n",
    "K0_TraceInseedless, K1_TraceInseedless = Normalize(TraceIn_seedless)\n",
    "K0_TraceInseed1, K1_TraceInseed1 = Normalize(TraceIn_seed1)\n",
    "K0_TraceInseed2, K1_TraceInseed2 = Normalize(TraceIn_seed2)\n",
    "K0_TraceInseed3, K1_TraceInseed3 = Normalize(TraceIn_seed3)"
   ]
  },
  {
   "cell_type": "markdown",
   "id": "be4d505f",
   "metadata": {},
   "source": [
    "# Compute GLMs"
   ]
  },
  {
   "cell_type": "markdown",
   "id": "4a7dfc99",
   "metadata": {},
   "source": [
    "### pNTK"
   ]
  },
  {
   "cell_type": "code",
   "execution_count": 31,
   "id": "8ebbef2c",
   "metadata": {},
   "outputs": [
    {
     "name": "stdout",
     "output_type": "stream",
     "text": [
      "0.8409763313609467\n",
      "0.8328402366863905\n",
      "0.834319526627219\n",
      "0.8298816568047337\n"
     ]
    }
   ],
   "source": [
    "K1_seedless_weights, K1_seedless_intercept, y_seedless = fit_and_scale(K0_seedless,K1_seedless)\n",
    "K1_seed1_weights, K1_seed1_intercept, y_seed1 = fit_and_scale(K0_seed1,K1_seed1)\n",
    "K1_seed2_weights, K1_seed2_intercept, y_seed2 = fit_and_scale(K0_seed2,K1_seed2)\n",
    "K1_seed3_weights, K1_seed3_intercept, y_seed3 = fit_and_scale(K0_seed3,K1_seed3)\n",
    "#0.8409763313609467\n",
    "#0.8335798816568047\n",
    "#0.8372781065088757\n",
    "#0.8276627218934911"
   ]
  },
  {
   "cell_type": "code",
   "execution_count": 32,
   "id": "a84f62cf",
   "metadata": {},
   "outputs": [
    {
     "name": "stdout",
     "output_type": "stream",
     "text": [
      "TAD: 0.0013 +/- 0.0028\n"
     ]
    }
   ],
   "source": [
    "acc = np.array([\n",
    "0.8394970414201184,\n",
    "0.8365384615384616,\n",
    "0.8357988165680473,\n",
    "0.8284023668639053,\n",
    "])\n",
    "\n",
    "diff = (acc - NNtest_accs)\n",
    "\n",
    "\n",
    "print('TAD: {:.4f} +/- {:.4f}'.format(diff.mean(),diff.std()/2))"
   ]
  },
  {
   "cell_type": "markdown",
   "id": "0ae99e5a",
   "metadata": {},
   "source": [
    "### pNTK0"
   ]
  },
  {
   "cell_type": "code",
   "execution_count": 33,
   "id": "1cea9846",
   "metadata": {},
   "outputs": [
    {
     "name": "stdout",
     "output_type": "stream",
     "text": [
      "0.8424556213017751\n",
      "0.8335798816568047\n",
      "0.8365384615384616\n",
      "0.841715976331361\n"
     ]
    }
   ],
   "source": [
    "K1_0seedless_weights, K1_0seedless_intercept, y_0seedless = fit_and_scale(K0_0seedless,K1_0seedless)\n",
    "K1_0seed1_weights, K1_0seed1_intercept, y_0seed1 = fit_and_scale(K0_0seed1,K1_0seed1)\n",
    "K1_0seed2_weights, K1_0seed2_intercept, y_0seed2 = fit_and_scale(K0_0seed2,K1_0seed2)\n",
    "K1_0seed3_weights, K1_0seed3_intercept, y_0seed3 = fit_and_scale(K0_0seed3,K1_0seed3)\n",
    "#0.8439349112426036\n",
    "#0.8387573964497042\n",
    "#0.8357988165680473\n",
    "#0.8357988165680473"
   ]
  },
  {
   "cell_type": "code",
   "execution_count": 34,
   "id": "a420ab3a",
   "metadata": {},
   "outputs": [
    {
     "name": "stdout",
     "output_type": "stream",
     "text": [
      "TAD: 0.0063 +/- 0.0018\n"
     ]
    }
   ],
   "source": [
    "acc = np.array([\n",
    "0.8446745562130178,\n",
    "0.8394970414201184,\n",
    "0.8372781065088757,\n",
    "0.8387573964497042,\n",
    "])\n",
    "\n",
    "diff = (acc - NNtest_accs)\n",
    "\n",
    "\n",
    "print('TAD: {:.4f} +/- {:.4f}'.format(diff.mean(),diff.std()/2))"
   ]
  },
  {
   "cell_type": "markdown",
   "id": "2c681c84",
   "metadata": {},
   "source": [
    "### CK"
   ]
  },
  {
   "cell_type": "code",
   "execution_count": 35,
   "id": "e7fb9970",
   "metadata": {},
   "outputs": [
    {
     "name": "stdout",
     "output_type": "stream",
     "text": [
      "0.8335798816568047\n",
      "0.834319526627219\n",
      "0.8328402366863905\n",
      "0.8298816568047337\n"
     ]
    }
   ],
   "source": [
    "K1_CKseedless_weights, K1_CKseedless_intercept, y_CKseedless = fit_and_scale(K0_CKseedless,K1_CKseedless)\n",
    "K1_CKseed1_weights, K1_CKseed1_intercept, y_CKseed1 = fit_and_scale(K0_CKseed1,K1_CKseed1)\n",
    "K1_CKseed2_weights, K1_CKseed2_intercept, y_CKseed2 = fit_and_scale(K0_CKseed2,K1_CKseed2)\n",
    "K1_CKseed3_weights, K1_CKseed3_intercept, y_CKseed3 = fit_and_scale(K0_CKseed3,K1_CKseed3)\n",
    "#0.8350591715976331\n",
    "#0.8335798816568047\n",
    "#0.8306213017751479\n",
    "#0.8313609467455622"
   ]
  },
  {
   "cell_type": "code",
   "execution_count": 36,
   "id": "9603bb79",
   "metadata": {},
   "outputs": [
    {
     "name": "stdout",
     "output_type": "stream",
     "text": [
      "TAD: -0.0011 +/- 0.0014\n"
     ]
    }
   ],
   "source": [
    "acc = np.array([\n",
    "0.8350591715976331,\n",
    "0.8335798816568047,\n",
    "0.8306213017751479,\n",
    "0.8313609467455622,\n",
    "])\n",
    "\n",
    "diff = (acc - NNtest_accs)\n",
    "\n",
    "\n",
    "print('TAD: {:.4f} +/- {:.4f}'.format(diff.mean(),diff.std()/2))"
   ]
  },
  {
   "cell_type": "markdown",
   "id": "4a76f3b5",
   "metadata": {},
   "source": [
    "### Embedding"
   ]
  },
  {
   "cell_type": "code",
   "execution_count": 37,
   "id": "c5c2965c",
   "metadata": {},
   "outputs": [
    {
     "name": "stdout",
     "output_type": "stream",
     "text": [
      "0.8313609467455622\n",
      "0.8409763313609467\n",
      "0.8357988165680473\n",
      "0.8394970414201184\n"
     ]
    }
   ],
   "source": [
    "K1_Emseedless_weights, K1_Emseedless_intercept, y_Emseedless = fit_and_scale(K0_Emseedless,K1_Emseedless)\n",
    "K1_Emseed1_weights, K1_Emseed1_intercept, y_Emseed1 = fit_and_scale(K0_Emseed1,K1_Emseed1)\n",
    "K1_Emseed2_weights, K1_Emseed2_intercept, y_Emseed2 = fit_and_scale(K0_Emseed2,K1_Emseed2)\n",
    "K1_Emseed3_weights, K1_Emseed3_intercept, y_Emseed3 = fit_and_scale(K0_Emseed3,K1_Emseed3)\n",
    "#0.8328402366863905\n",
    "#0.8394970414201184\n",
    "#0.834319526627219\n",
    "#0.8180473372781065"
   ]
  },
  {
   "cell_type": "code",
   "execution_count": 38,
   "id": "1a03352d",
   "metadata": {},
   "outputs": [
    {
     "name": "stdout",
     "output_type": "stream",
     "text": [
      "TAD: -0.0026 +/- 0.0048\n"
     ]
    }
   ],
   "source": [
    "acc = np.array([\n",
    "0.8328402366863905,\n",
    "0.8394970414201184,\n",
    "0.834319526627219,\n",
    "0.8180473372781065,\n",
    "])\n",
    "\n",
    "diff = (acc - NNtest_accs)\n",
    "\n",
    "\n",
    "print('TAD: {:.4f} +/- {:.4f}'.format(diff.mean(),diff.std()/2))"
   ]
  },
  {
   "cell_type": "markdown",
   "id": "d4d9e39f",
   "metadata": {},
   "source": [
    "### Proj-trNTK"
   ]
  },
  {
   "cell_type": "code",
   "execution_count": 39,
   "id": "8f18f8d2",
   "metadata": {},
   "outputs": [
    {
     "name": "stdout",
     "output_type": "stream",
     "text": [
      "0.8372781065088757\n",
      "0.8357988165680473\n",
      "0.8357988165680473\n",
      "0.834319526627219\n"
     ]
    }
   ],
   "source": [
    "K1_proj_trNTKseedless_weights, K1_proj_trNTKseedless_intercept, y_proj_trNTKseedless = fit_and_scale(K0_proj_trNTKseedless,K1_proj_trNTKseedless)\n",
    "K1_proj_trNTKseed1_weights, K1_proj_trNTKseed1_intercept, y_proj_trNTKseed1 = fit_and_scale(K0_proj_trNTKseed1,K1_proj_trNTKseed1)\n",
    "K1_proj_trNTKseed2_weights, K1_proj_trNTKseed2_intercept, y_proj_trNTKseed2 = fit_and_scale(K0_proj_trNTKseed2,K1_proj_trNTKseed2)\n",
    "K1_proj_trNTKseed3_weights, K1_proj_trNTKseed3_intercept, y_proj_trNTKseed3 = fit_and_scale(K0_proj_trNTKseed3,K1_proj_trNTKseed3)"
   ]
  },
  {
   "cell_type": "code",
   "execution_count": 40,
   "id": "979462c2",
   "metadata": {},
   "outputs": [
    {
     "name": "stdout",
     "output_type": "stream",
     "text": [
      "TAD: -0.0006 +/- 0.0026\n"
     ]
    }
   ],
   "source": [
    "acc = np.array([\n",
    "0.8394970414201184,\n",
    "0.8328402366863905,\n",
    "0.8321005917159763,\n",
    "0.8284023668639053,\n",
    "])\n",
    "\n",
    "diff = (acc - NNtest_accs)\n",
    "\n",
    "\n",
    "print('TAD: {:.4f} +/- {:.4f}'.format(diff.mean(),diff.std()/2))"
   ]
  },
  {
   "cell_type": "code",
   "execution_count": 41,
   "id": "6840b6c9",
   "metadata": {},
   "outputs": [
    {
     "data": {
      "image/png": "[encoded data removed]",
      "text/plain": [
       "<Figure size 600x600 with 1 Axes>"
      ]
     },
     "metadata": {},
     "output_type": "display_data"
    }
   ],
   "source": [
    "residuals = (K0_proj_trNTKseed3 - K0_seed3).flatten()\n",
    "\n",
    "fig = plt.figure(figsize=(6,6))\n",
    "plt.hist(np.abs(residuals),bins=np.linspace(0,0.10,300),cumulative=True,density=True,label='Cumulative Histogram of Residuals')\n",
    "#plt.yscale('log')\n",
    "plt.title(f'Bert Residuals between trNTK and proj-trNTK, k={512*20}',fontsize=16)\n",
    "plt.ylabel('Cumulative',fontsize=14)\n",
    "plt.xlabel('Abs(Residual of Cos-Sim)',fontsize=14)\n",
    "plt.xlim(0,0.10)\n",
    "k=512*20\n",
    "x = np.linspace(0,0.1,300)\n",
    "y = 1 - np.exp(-x*k/20)\n",
    "plt.hlines(1.0,0.0,0.1,color='k')\n",
    "plt.plot(x,y,label='Approximate ResNet18 Cifar10')\n",
    "\n",
    "y = 1 - np.exp(-x*k/58)\n",
    "plt.plot(x,y,label='Approximate BertBase COLA')\n",
    "plt.legend(loc='lower right',fontsize=14)\n",
    "\n",
    "#plt.savefig('/rcfs/projects/task0_pmml/images/residuals_bert_base_seed3.png')\n",
    "\n",
    "plt.show()\n",
    "#This is exponential, because the histogram looks like a line on both sides logarithmically scaled."
   ]
  },
  {
   "cell_type": "code",
   "execution_count": 63,
   "id": "6d75836b",
   "metadata": {},
   "outputs": [
    {
     "data": {
      "image/png": "[encoded data removed]",
      "text/plain": [
       "<Figure size 600x600 with 1 Axes>"
      ]
     },
     "metadata": {},
     "output_type": "display_data"
    }
   ],
   "source": [
    "residuals = (K0_proj_trNTKseed3 - K0_seed3).flatten()\n",
    "\n",
    "fig = plt.figure(figsize=(6,6))\n",
    "plt.hist(np.abs(residuals),bins=np.logspace(-5,0,300),cumulative=True,density=True,)\n",
    "#plt.yscale('log')\n",
    "plt.title('Bert-base Residuals between trNTK and proj-trNTK',fontsize=16)\n",
    "plt.ylabel('Cumulative',fontsize=14)\n",
    "plt.xlabel('Abs(Residual) [log]',fontsize=14)\n",
    "\n",
    "k=10_240\n",
    "x = np.logspace(-5,0,1000)\n",
    "k=10_240\n",
    "a=56\n",
    "y = 1 - np.exp(-x*k/a)\n",
    "plt.hlines(1.0,0.0,0.1,color='k')\n",
    "plt.xscale('log')\n",
    "#plt.xlim(0,1)\n",
    "plt.plot(x,y,label=r'$y = 1 - \\exp(-x*k/56)$')\n",
    "plt.legend(loc='center left')\n",
    "plt.savefig('/rcfs/projects/task0_pmml/images/residuals_bert_base_seed3.png')\n",
    "plt.show()\n",
    "#This is exponential, because the histogram looks like a line on both sides logarithmically scaled."
   ]
  },
  {
   "cell_type": "markdown",
   "id": "6a395269",
   "metadata": {},
   "source": [
    "### proj-pNTK"
   ]
  },
  {
   "cell_type": "code",
   "execution_count": 73,
   "id": "47ec25b5",
   "metadata": {},
   "outputs": [
    {
     "name": "stdout",
     "output_type": "stream",
     "text": [
      "0.841715976331361\n",
      "0.8402366863905325\n",
      "0.8335798816568047\n",
      "0.8402366863905325\n"
     ]
    }
   ],
   "source": [
    "K1_proj_pNTKseedless_weights, K1_proj_pNTKseedless_intercept, y_proj_pNTKseedless = fit_and_scale(K0_proj_pNTKseedless,K1_proj_pNTKseedless)\n",
    "K1_proj_pNTKseed1_weights, K1_proj_pNTKseed1_intercept, y_proj_pNTKseed1 = fit_and_scale(K0_proj_pNTKseed1,K1_proj_pNTKseed1)\n",
    "K1_proj_pNTKseed2_weights, K1_proj_pNTKseed2_intercept, y_proj_pNTKseed2 = fit_and_scale(K0_proj_pNTKseed2,K1_proj_pNTKseed2)\n",
    "K1_proj_pNTKseed3_weights, K1_proj_pNTKseed3_intercept, y_proj_pNTKseed3 = fit_and_scale(K0_proj_pNTKseed3,K1_proj_pNTKseed3)"
   ]
  },
  {
   "cell_type": "code",
   "execution_count": 148,
   "id": "b4d5ecac",
   "metadata": {},
   "outputs": [
    {
     "name": "stdout",
     "output_type": "stream",
     "text": [
      "TAD: 0.0052 +/- 0.0016\n"
     ]
    }
   ],
   "source": [
    "acc = np.array([\n",
    "0.841715976331361,\n",
    "0.8402366863905325,\n",
    "0.8335798816568047,\n",
    "0.8402366863905325,\n",
    "])\n",
    "diff = (acc - NNtest_accs)\n",
    "\n",
    "\n",
    "print('TAD: {:.4f} +/- {:.4f}'.format(diff.mean(),diff.std()/2))"
   ]
  },
  {
   "cell_type": "markdown",
   "id": "9996c3b2",
   "metadata": {},
   "source": [
    "### TraceIn"
   ]
  },
  {
   "cell_type": "code",
   "execution_count": 77,
   "id": "965b6df3",
   "metadata": {},
   "outputs": [
    {
     "name": "stdout",
     "output_type": "stream",
     "text": [
      "0.8816568047337278\n",
      "0.882396449704142\n",
      "0.856508875739645\n",
      "0.8979289940828402\n"
     ]
    }
   ],
   "source": [
    "K1_TraceInseedless_weights, K1_TraceInseedless_intercept, y_TraceInseedless = fit_and_scale(K0_TraceInseedless,K1_TraceInseedless)\n",
    "K1_TraceInseed1_weights, K1_TraceInseed1_intercept, y_TraceInseed1 = fit_and_scale(K0_TraceInseed1,K1_TraceInseed1)\n",
    "K1_TraceInseed2_weights, K1_TraceInseed2_intercept, y_TraceInseed2 = fit_and_scale(K0_TraceInseed2,K1_TraceInseed2)\n",
    "K1_TraceInseed3_weights, K1_TraceInseed3_intercept, y_TraceInseed3 = fit_and_scale(K0_TraceInseed3,K1_TraceInseed3)\n",
    "#0.8831360946745562\n",
    "#0.8809171597633136\n",
    "#0.8594674556213018\n",
    "#0.9031065088757396"
   ]
  },
  {
   "cell_type": "code",
   "execution_count": 149,
   "id": "0f9999f6",
   "metadata": {},
   "outputs": [
    {
     "name": "stdout",
     "output_type": "stream",
     "text": [
      "TAD: 0.0496 +/- 0.0084\n"
     ]
    }
   ],
   "source": [
    "acc = np.array([\n",
    "0.8831360946745562,\n",
    "0.8846153846153846,\n",
    "0.8572485207100592,\n",
    "0.908284023668639,\n",
    "])\n",
    "\n",
    "diff = (acc - NNtest_accs)\n",
    "\n",
    "\n",
    "print('TAD: {:.4f} +/- {:.4f}'.format(diff.mean(),diff.std()/2))"
   ]
  },
  {
   "cell_type": "markdown",
   "id": "73c5cbb5",
   "metadata": {},
   "source": [
    "# Now Compute Taus"
   ]
  },
  {
   "cell_type": "code",
   "execution_count": 102,
   "id": "2c9cf334",
   "metadata": {},
   "outputs": [],
   "source": [
    "def numpy_softmax(x):\n",
    "    return np.exp(x) / np.sum(np.exp(x),axis=1)[:,None]\n",
    "\n",
    "def sigmoid(p):\n",
    "    return 1/(1+np.exp(-p))\n",
    "\n",
    "def logit(p,eps=0.0):\n",
    "    return np.log((p+eps)/(1-p+eps))\n",
    "\n",
    "def softmax_numpy(x):\n",
    "    return np.exp(x) / np.sum(np.exp(x))\n",
    "\n",
    "test_y = validation_labels\n",
    "\n",
    "def tau_comparison_final(X,Y):    \n",
    "    \n",
    "    correct_logit_mask = test_y.cpu().numpy().astype(int)\n",
    "    \n",
    "    if isinstance(X,torch.Tensor):\n",
    "        X = X.detach().cpu().numpy()\n",
    "    if isinstance(Y,torch.Tensor):\n",
    "        Y = Y.detach().cpu().numpy()\n",
    "    \n",
    "    #And because we are doing binary the SGDClassifier has corrected to using one ouput.\n",
    "    #X = np.array(X)\n",
    "    X = sigmoid(np.array(X))\n",
    "    \n",
    "    #In this case the Ys are already softmax scaled.\n",
    "    #if we downselect onto the first neuron we can still do our comparison\n",
    "    Y = Y[:,1]\n",
    "    \n",
    "    mask = np.logical_or(np.logical_or(X==1,Y==1),np.logical_or(X==0,Y==0))\n",
    "\n",
    "    X = X[~mask]\n",
    "    Y = Y[~mask]\n",
    "    \n",
    "#     plt.plot(X,Y,'.')\n",
    "#     plt.show()\n",
    "    \n",
    "    Tau = kendalltau(X,Y).correlation\n",
    "    return Tau"
   ]
  },
  {
   "cell_type": "markdown",
   "id": "2f929198",
   "metadata": {},
   "source": [
    "### trNTK"
   ]
  },
  {
   "cell_type": "code",
   "execution_count": 119,
   "id": "c0724097",
   "metadata": {},
   "outputs": [],
   "source": [
    "K1_seedless_scaled = np.sum((K1_seedless * K1_seedless_weights),axis=1) + K1_seedless_intercept\n",
    "K1_seed1_scaled = np.sum(K1_seed1 * K1_seed1_weights,axis=1) + K1_seed1_intercept\n",
    "K1_seed2_scaled = np.sum(K1_seed2 * K1_seed2_weights,axis=1) + K1_seed2_intercept\n",
    "K1_seed3_scaled = np.sum(K1_seed3 * K1_seed3_weights,axis=1) + K1_seed3_intercept"
   ]
  },
  {
   "cell_type": "code",
   "execution_count": 121,
   "id": "ac1003ce",
   "metadata": {},
   "outputs": [
    {
     "name": "stdout",
     "output_type": "stream",
     "text": [
      "Tau: 0.8085 +/- 0.0085\n"
     ]
    }
   ],
   "source": [
    "Taus = []\n",
    "\n",
    "t = tau_comparison_final(K1_seedless_scaled,NNseedless_ys)\n",
    "Taus.append(t)\n",
    "t = tau_comparison_final(K1_seed1_scaled,NN1_ys)\n",
    "Taus.append(t)\n",
    "t = tau_comparison_final(K1_seed2_scaled,NN2_ys)\n",
    "Taus.append(t)\n",
    "t = tau_comparison_final(K1_seed3_scaled,NN3_ys)\n",
    "Taus.append(t)\n",
    "\n",
    "Taus = np.array(Taus)\n",
    "\n",
    "print(\"Tau: {:.4f} +/- {:.4f}\".format(Taus.mean(),Taus.std()/2))\n",
    "#au: 0.8085 +/- 0.0169\n",
    "# 0.809(9)"
   ]
  },
  {
   "cell_type": "markdown",
   "id": "169491e6",
   "metadata": {},
   "source": [
    "### trNTK0"
   ]
  },
  {
   "cell_type": "code",
   "execution_count": 122,
   "id": "0580333e",
   "metadata": {},
   "outputs": [],
   "source": [
    "K1_0seedless_scaled = np.sum((K1_0seedless * K1_0seedless_weights),axis=1) + K1_0seedless_intercept\n",
    "K1_0seed1_scaled = np.sum(K1_0seed1 * K1_0seed1_weights,axis=1) + K1_0seed1_intercept\n",
    "K1_0seed2_scaled = np.sum(K1_0seed2 * K1_0seed2_weights,axis=1) + K1_0seed2_intercept\n",
    "K1_0seed3_scaled = np.sum(K1_0seed3 * K1_0seed3_weights,axis=1) + K1_0seed3_intercept"
   ]
  },
  {
   "cell_type": "code",
   "execution_count": 123,
   "id": "cfb81c44",
   "metadata": {},
   "outputs": [
    {
     "name": "stdout",
     "output_type": "stream",
     "text": [
      "Tau: 0.5260 +/- 0.1065\n"
     ]
    }
   ],
   "source": [
    "Taus = []\n",
    "\n",
    "t = tau_comparison_final(K1_0seedless_scaled,NNseedless_ys)\n",
    "Taus.append(t)\n",
    "t = tau_comparison_final(K1_0seed1_scaled,NN1_ys)\n",
    "Taus.append(t)\n",
    "t = tau_comparison_final(K1_0seed2_scaled,NN2_ys)\n",
    "Taus.append(t)\n",
    "t = tau_comparison_final(K1_0seed3_scaled,NN3_ys)\n",
    "Taus.append(t)\n",
    "\n",
    "Taus = np.array(Taus)\n",
    "\n",
    "print(\"Tau: {:.4f} +/- {:.4f}\".format(Taus.mean(),Taus.std()/2))\n",
    "#Tau: 0.5260 +/- 0.1065\n",
    "#Tau: 0.5(1)"
   ]
  },
  {
   "cell_type": "markdown",
   "id": "5d844bc1",
   "metadata": {},
   "source": [
    "### CK"
   ]
  },
  {
   "cell_type": "code",
   "execution_count": 124,
   "id": "5a39592e",
   "metadata": {},
   "outputs": [],
   "source": [
    "K1_CKseedless_scaled = np.sum((K1_CKseedless * K1_CKseedless_weights),axis=1) + K1_CKseedless_intercept\n",
    "K1_CKseed1_scaled = np.sum(K1_CKseed1 * K1_CKseed1_weights,axis=1) + K1_CKseed1_intercept\n",
    "K1_CKseed2_scaled = np.sum(K1_CKseed2 * K1_CKseed2_weights,axis=1) + K1_CKseed2_intercept\n",
    "K1_CKseed3_scaled = np.sum(K1_CKseed3 * K1_CKseed3_weights,axis=1) + K1_CKseed3_intercept"
   ]
  },
  {
   "cell_type": "code",
   "execution_count": 125,
   "id": "7671bc0b",
   "metadata": {},
   "outputs": [
    {
     "name": "stdout",
     "output_type": "stream",
     "text": [
      "Tau: 0.5169 +/- 0.0437\n"
     ]
    }
   ],
   "source": [
    "Taus = []\n",
    "\n",
    "t = tau_comparison_final(K1_CKseedless_scaled,NNseedless_ys)\n",
    "Taus.append(t)\n",
    "t = tau_comparison_final(K1_CKseed1_scaled,NN1_ys)\n",
    "Taus.append(t)\n",
    "t = tau_comparison_final(K1_CKseed2_scaled,NN2_ys)\n",
    "Taus.append(t)\n",
    "t = tau_comparison_final(K1_CKseed3_scaled,NN3_ys)\n",
    "Taus.append(t)\n",
    "\n",
    "Taus = np.array(Taus)\n",
    "\n",
    "print(\"Tau: {:.4f} +/- {:.4f}\".format(Taus.mean(),Taus.std()/2))\n",
    "#0.52(4)"
   ]
  },
  {
   "cell_type": "markdown",
   "id": "43d46724",
   "metadata": {},
   "source": [
    "### Embedding"
   ]
  },
  {
   "cell_type": "code",
   "execution_count": 126,
   "id": "7105dab5",
   "metadata": {},
   "outputs": [],
   "source": [
    "K1_Emseedless_scaled = np.sum((K1_Emseedless * K1_Emseedless_weights),axis=1) + K1_Emseedless_intercept\n",
    "K1_Emseed1_scaled = np.sum(K1_Emseed1 * K1_Emseed1_weights,axis=1) + K1_Emseed1_intercept\n",
    "K1_Emseed2_scaled = np.sum(K1_Emseed2 * K1_Emseed2_weights,axis=1) + K1_Emseed2_intercept\n",
    "K1_Emseed3_scaled = np.sum(K1_Emseed3 * K1_Emseed3_weights,axis=1) + K1_Emseed3_intercept"
   ]
  },
  {
   "cell_type": "code",
   "execution_count": 127,
   "id": "d3f4bbab",
   "metadata": {},
   "outputs": [
    {
     "name": "stdout",
     "output_type": "stream",
     "text": [
      "Tau: 0.6463 +/- 0.0224\n"
     ]
    }
   ],
   "source": [
    "Taus = []\n",
    "\n",
    "t = tau_comparison_final(K1_Emseedless_scaled,NNseedless_ys)\n",
    "Taus.append(t)\n",
    "t = tau_comparison_final(K1_Emseed1_scaled,NN1_ys)\n",
    "Taus.append(t)\n",
    "t = tau_comparison_final(K1_Emseed2_scaled,NN2_ys)\n",
    "Taus.append(t)\n",
    "t = tau_comparison_final(K1_Emseed3_scaled,NN3_ys)\n",
    "Taus.append(t)\n",
    "\n",
    "Taus = np.array(Taus)\n",
    "\n",
    "print(\"Tau: {:.4f} +/- {:.4f}\".format(Taus.mean(),Taus.std()/2))\n",
    "#0.65(2)"
   ]
  },
  {
   "cell_type": "markdown",
   "id": "1b1d70d1",
   "metadata": {},
   "source": [
    "### proj-trNTK"
   ]
  },
  {
   "cell_type": "code",
   "execution_count": 128,
   "id": "cb706ee1",
   "metadata": {},
   "outputs": [],
   "source": [
    "K1_proj_trNTKseedless_scaled = np.sum((K1_proj_trNTKseedless * K1_proj_trNTKseedless_weights),axis=1) + K1_proj_trNTKseedless_intercept\n",
    "K1_proj_trNTKseed1_scaled = np.sum((K1_proj_trNTKseed1 * K1_proj_trNTKseed1_weights),axis=1) + K1_proj_trNTKseed1_intercept\n",
    "K1_proj_trNTKseed2_scaled = np.sum((K1_proj_trNTKseed2 * K1_proj_trNTKseed2_weights),axis=1) + K1_proj_trNTKseed2_intercept\n",
    "K1_proj_trNTKseed3_scaled = np.sum((K1_proj_trNTKseed3 * K1_proj_trNTKseed3_weights),axis=1) + K1_proj_trNTKseed3_intercept"
   ]
  },
  {
   "cell_type": "code",
   "execution_count": 129,
   "id": "6f6f1e79",
   "metadata": {},
   "outputs": [
    {
     "name": "stdout",
     "output_type": "stream",
     "text": [
      "Tau: 0.7997 +/- 0.0087\n"
     ]
    }
   ],
   "source": [
    "Taus = []\n",
    "\n",
    "t = tau_comparison_final(K1_proj_trNTKseedless_scaled,NNseedless_ys)\n",
    "Taus.append(t)\n",
    "t = tau_comparison_final(K1_proj_trNTKseed1_scaled,NN1_ys)\n",
    "Taus.append(t)\n",
    "t = tau_comparison_final(K1_proj_trNTKseed2_scaled,NN2_ys)\n",
    "Taus.append(t)\n",
    "t = tau_comparison_final(K1_proj_trNTKseed3_scaled,NN3_ys)\n",
    "Taus.append(t)\n",
    "\n",
    "Taus = np.array(Taus)\n",
    "\n",
    "print(\"Tau: {:.4f} +/- {:.4f}\".format(Taus.mean(),Taus.std()/2))\n",
    "#0.800(9)"
   ]
  },
  {
   "cell_type": "markdown",
   "id": "0d2ea89b",
   "metadata": {},
   "source": [
    "# proj-pNTK"
   ]
  },
  {
   "cell_type": "code",
   "execution_count": 131,
   "id": "21b34210",
   "metadata": {},
   "outputs": [],
   "source": [
    "K1_proj_pNTKseedless_scaled = np.sum((K1_proj_pNTKseedless * K1_proj_pNTKseedless_weights),axis=1) + K1_proj_pNTKseedless_intercept\n",
    "K1_proj_pNTKseed1_scaled = np.sum((K1_proj_pNTKseed1 * K1_proj_pNTKseed1_weights),axis=1) + K1_proj_pNTKseed1_intercept\n",
    "K1_proj_pNTKseed2_scaled = np.sum((K1_proj_pNTKseed2 * K1_proj_pNTKseed2_weights),axis=1) + K1_proj_pNTKseed2_intercept\n",
    "K1_proj_pNTKseed3_scaled = np.sum((K1_proj_pNTKseed3 * K1_proj_pNTKseed3_weights),axis=1) + K1_proj_pNTKseed3_intercept"
   ]
  },
  {
   "cell_type": "code",
   "execution_count": 132,
   "id": "9a5ea85e",
   "metadata": {},
   "outputs": [
    {
     "name": "stdout",
     "output_type": "stream",
     "text": [
      "Tau: 0.7155 +/- 0.0229\n"
     ]
    }
   ],
   "source": [
    "Taus = []\n",
    "\n",
    "t = tau_comparison_final(K1_proj_pNTKseedless_scaled,NNseedless_ys)\n",
    "Taus.append(t)\n",
    "t = tau_comparison_final(K1_proj_pNTKseed1_scaled,NN1_ys)\n",
    "Taus.append(t)\n",
    "t = tau_comparison_final(K1_proj_pNTKseed2_scaled,NN2_ys)\n",
    "Taus.append(t)\n",
    "t = tau_comparison_final(K1_proj_pNTKseed3_scaled,NN3_ys)\n",
    "Taus.append(t)\n",
    "\n",
    "Taus = np.array(Taus)\n",
    "\n",
    "print(\"Tau: {:.4f} +/- {:.4f}\".format(Taus.mean(),Taus.std()/2))\n",
    "#0.72(2)"
   ]
  },
  {
   "cell_type": "markdown",
   "id": "f818f47b",
   "metadata": {},
   "source": [
    "### Grad-Cos"
   ]
  },
  {
   "cell_type": "code",
   "execution_count": 133,
   "id": "57bece9c",
   "metadata": {},
   "outputs": [],
   "source": [
    "K1_TraceInseedless_scaled = np.sum((K1_TraceInseedless * K1_TraceInseedless_weights),axis=1) + K1_TraceInseedless_intercept\n",
    "K1_TraceInseed1_scaled = np.sum(K1_TraceInseed1 * K1_TraceInseed1_weights,axis=1) + K1_TraceInseed1_intercept\n",
    "K1_TraceInseed2_scaled = np.sum(K1_TraceInseed2 * K1_TraceInseed2_weights,axis=1) + K1_TraceInseed2_intercept\n",
    "K1_TraceInseed3_scaled = np.sum(K1_TraceInseed3 * K1_TraceInseed3_weights,axis=1) + K1_TraceInseed3_intercept"
   ]
  },
  {
   "cell_type": "code",
   "execution_count": 134,
   "id": "bfa95ba0",
   "metadata": {},
   "outputs": [
    {
     "name": "stdout",
     "output_type": "stream",
     "text": [
      "Tau: 0.7378 +/- 0.0107\n"
     ]
    }
   ],
   "source": [
    "Taus = []\n",
    "\n",
    "t = tau_comparison_final(K1_TraceInseedless_scaled,NNseedless_ys)\n",
    "Taus.append(t)\n",
    "t = tau_comparison_final(K1_TraceInseed1_scaled,NN1_ys)\n",
    "Taus.append(t)\n",
    "t = tau_comparison_final(K1_TraceInseed2_scaled,NN2_ys)\n",
    "Taus.append(t)\n",
    "t = tau_comparison_final(K1_TraceInseed3_scaled,NN3_ys)\n",
    "Taus.append(t)\n",
    "\n",
    "Taus = np.array(Taus)\n",
    "\n",
    "print(\"Tau: {:.4f} +/- {:.4f}\".format(Taus.mean(),Taus.std()/2))\n",
    "#Tau: 0.74(1)"
   ]
  }
 ],
 "metadata": {
  "kernelspec": {
   "display_name": "Python 3 (ipykernel)",
   "language": "python",
   "name": "python3"
  },
  "language_info": {
   "codemirror_mode": {
    "name": "ipython",
    "version": 3
   },
   "file_extension": ".py",
   "mimetype": "text/x-python",
   "name": "python",
   "nbconvert_exporter": "python",
   "pygments_lexer": "ipython3",
   "version": "3.9.16"
  }
 },
 "nbformat": 4,
 "nbformat_minor": 5
}
