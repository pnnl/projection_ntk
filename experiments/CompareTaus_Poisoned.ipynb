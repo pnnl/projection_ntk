{
 "cells": [
  {
   "cell_type": "markdown",
   "id": "29baafb5",
   "metadata": {},
   "source": [
    "### This notebook analyzes pre-trained Traceback CNN models and their precomputed NTK (see XXX)\n",
    "\n",
    "You will need to train CNN models on the CIFAR posioned data. These are described in https://github.com/Shawn-Shan/forensics\n",
    "\n",
    "Then, you will need to compute the trace-NTK. This is done seperately.\n",
    "\n",
    "We do include seperate notebooks for computeing projected-trNTK and projected-pNTK. Commented out sections of this\n",
    "notebook include how to calculate traceIn kernels, which we did not report on because their kernel\n",
    "calculation includes label information, which for our specific study didn't compare with the remaining kernels. A seperate\n",
    "notebooks computes the Embedding kernel, "
   ]
  },
  {
   "cell_type": "code",
   "execution_count": 1,
   "id": "b9904c55",
   "metadata": {},
   "outputs": [],
   "source": [
    "import sys\n",
    "\n",
    "\n",
    "import numpy as np\n",
    "import torch\n",
    "import random\n",
    "\n",
    "#import matplotlib.pyplot as plt\n",
    "\n",
    "\n",
    "import torch\n",
    "from torch import nn, optim\n",
    "from torch import load\n",
    "from torch.nn import functional as F\n",
    "from torch import autograd\n",
    "\n",
    "#from torchvision import datasets\n",
    "\n",
    "from torch.utils.data import TensorDataset\n",
    "from torch.utils.data import DataLoader\n",
    "\n",
    "import time\n",
    "\n",
    "import sys\n",
    "from pathlib import Path\n",
    "\n",
    "#from numba import njit\n",
    "\n",
    "from tqdm import tqdm\n",
    "\n",
    "import os\n",
    "\n",
    "#import gc\n",
    "\n",
    "#import torchntk.autograd as ezntk\n",
    "\n",
    "#import scipy.ndimage as ndimage\n",
    "\n",
    "#from cleverhans.torch.attacks.fast_gradient_method import fast_gradient_method\n",
    "#from cleverhans.torch.attacks.projected_gradient_descent import (\n",
    "#    projected_gradient_descent,\n",
    "#)\n",
    "\n",
    "#from utils2 import process_Cifar10\n",
    "from einops import rearrange\n",
    "\n",
    "import torch\n",
    "import torch.nn as nn\n",
    "import os\n",
    "\n",
    "from scipy.stats import kendalltau\n",
    "\n",
    "import pickle"
   ]
  },
  {
   "cell_type": "code",
   "execution_count": 2,
   "id": "46124d51",
   "metadata": {},
   "outputs": [],
   "source": [
    "with open('/rcfs/projects/task0_pmml/traceback/forensics/results/cifar_cifar2_res.p','rb') as f:\n",
    "    RES = pickle.load(f)"
   ]
  },
  {
   "cell_type": "code",
   "execution_count": 3,
   "id": "808c9c7e",
   "metadata": {},
   "outputs": [],
   "source": [
    "class Model(torch.nn.Module):\n",
    "    def __init__(self,):\n",
    "        super(Model, self).__init__()\n",
    "        \n",
    "        self.conv2d = torch.nn.Conv2d(3, 32, (3,3), padding=(1,1),)\n",
    "        self.batch_normalization = torch.nn.BatchNorm2d(32,momentum=0.01,eps=1e-3)\n",
    "        self.conv2d_1 = torch.nn.Conv2d(32, 32, (3,3), padding=(1,1))\n",
    "        self.batch_normalization_1 = torch.nn.BatchNorm2d(32,momentum=0.01,eps=1e-3)\n",
    "        self.max_pooling2d = torch.nn.MaxPool2d((2,2))\n",
    "        \n",
    "        self.conv2d_2 = torch.nn.Conv2d(32, 64, (3,3), padding=(1,1))\n",
    "        self.batch_normalization_2 = torch.nn.BatchNorm2d(64,momentum=0.01,eps=1e-3)\n",
    "        self.conv2d_3 = torch.nn.Conv2d(64, 64, (3,3), padding=(1,1))\n",
    "        self.batch_normalization_3 = torch.nn.BatchNorm2d(64,momentum=0.01,eps=1e-3)\n",
    "        self.max_pooling2d_1 = torch.nn.MaxPool2d((2,2))\n",
    "        \n",
    "        self.conv2d_4 = torch.nn.Conv2d(64, 128, (3,3), padding=(1,1))\n",
    "        self.batch_normalization_4 = torch.nn.BatchNorm2d(128,momentum=0.01,eps=1e-3)\n",
    "        self.conv2d_5 = torch.nn.Conv2d(128, 128, (3,3), padding=(1,1))\n",
    "        self.batch_normalization_5 = torch.nn.BatchNorm2d(128,momentum=0.01,eps=1e-3)\n",
    "        self.max_pooling2d_2 = torch.nn.MaxPool2d((2,2))\n",
    "\n",
    "        self.flatten = torch.nn.Flatten()\n",
    "        self.max_pooling1d = torch.nn.MaxPool1d((4))\n",
    "        self.dropout = torch.nn.Dropout(0.2)\n",
    "        \n",
    "        self.dense = torch.nn.Linear(512,512,)\n",
    "        self.batch_normalization_6 = torch.nn.BatchNorm1d(512,momentum=0.01,eps=1e-3)\n",
    "        \n",
    "        self.dense_1 = torch.nn.Linear(512,512,)\n",
    "        self.batch_normalization_7 = torch.nn.BatchNorm1d(512,momentum=0.01,eps=1e-3)\n",
    "        \n",
    "        self.dense_2 = torch.nn.Linear(512,10,)\n",
    "    \n",
    "    def forward(self,x):\n",
    "        x = self.conv2d(x)\n",
    "        x = torch.nn.functional.relu(x)\n",
    "        x = self.batch_normalization(x)\n",
    "        x = self.conv2d_1(x)\n",
    "        x = torch.nn.functional.relu(x)\n",
    "        x = self.batch_normalization_1(x)\n",
    "        x = self.max_pooling2d(x)\n",
    "        \n",
    "        x = self.conv2d_2(x)\n",
    "        x = torch.nn.functional.relu(x)\n",
    "        x = self.batch_normalization_2(x)\n",
    "        x = self.conv2d_3(x)\n",
    "        x = torch.nn.functional.relu(x)\n",
    "        x = self.batch_normalization_3(x)\n",
    "        x = self.max_pooling2d_1(x)\n",
    "        \n",
    "        x = self.conv2d_4(x)\n",
    "        x = torch.nn.functional.relu(x)\n",
    "        x = self.batch_normalization_4(x)\n",
    "        x = self.conv2d_5(x)\n",
    "        x = torch.nn.functional.relu(x)\n",
    "        x = self.batch_normalization_5(x)\n",
    "        x = self.max_pooling2d_2(x)\n",
    "        \n",
    "        \n",
    "        x = self.flatten(x)\n",
    "        x = self.max_pooling1d(x)\n",
    "        x = self.dropout(x)\n",
    "        \n",
    "        x = self.dense(x)\n",
    "        x = torch.nn.functional.relu(x)\n",
    "        x = self.batch_normalization_6(x)\n",
    "        x = self.dense_1(x)\n",
    "        x = torch.nn.functional.relu(x)\n",
    "        x = self.batch_normalization_7(x)\n",
    "        x = self.dense_2(x)\n",
    "        \n",
    "        return x"
   ]
  },
  {
   "cell_type": "code",
   "execution_count": 4,
   "id": "79e942ff",
   "metadata": {},
   "outputs": [
    {
     "data": {
      "text/plain": [
       "<torch._C.Generator at 0x2b726fd3e130>"
      ]
     },
     "execution_count": 4,
     "metadata": {},
     "output_type": "execute_result"
    }
   ],
   "source": [
    "model = Model()\n",
    "model.to('cuda')\n",
    "torch.manual_seed(1234)"
   ]
  },
  {
   "cell_type": "code",
   "execution_count": 5,
   "id": "41e86789",
   "metadata": {},
   "outputs": [],
   "source": [
    "def calc_acc(Y,Y_hat):\n",
    "    pred = torch.argmax(Y_hat,axis=1)\n",
    "    truth = torch.argmax(Y,axis=1)\n",
    "    return (pred==truth).sum()/len(pred)\n",
    "\n",
    "\n",
    "def eval_clean_and_attack(model, X_test, Y_test, injected_X_test, injected_Y_test):\n",
    "    model.eval()\n",
    "    with torch.no_grad():\n",
    "        X_test=X_test.to('cuda')\n",
    "        Y_test=Y_test.to('cuda')\n",
    "        injected_X_test=injected_X_test.to('cuda')\n",
    "        injected_Y_test=injected_Y_test.to('cuda')\n",
    "        \n",
    "        Y_hat = model(X_test)\n",
    "        clean_acc = calc_acc(Y_test,Y_hat)\n",
    "\n",
    "        Y_hat = model(injected_X_test)\n",
    "        attack_acc = calc_acc(injected_Y_test,Y_hat)\n",
    "    \n",
    "    return clean_acc, attack_acc\n",
    "\n",
    "def predict_clean_and_attack(model, X_test, Y_test, injected_X_test, injected_Y_test):\n",
    "    model.eval()\n",
    "    with torch.no_grad():\n",
    "        X_test=X_test.to('cuda')\n",
    "        Y_test=Y_test.to('cuda')\n",
    "        injected_X_test=injected_X_test.to('cuda')\n",
    "        injected_Y_test=injected_Y_test.to('cuda')\n",
    "        \n",
    "        Y_hat_clean = model(X_test)\n",
    "\n",
    "        Y_hat_poisoned = model(injected_X_test)\n",
    "    \n",
    "    return Y_hat_clean, Y_hat_poisoned"
   ]
  },
  {
   "cell_type": "code",
   "execution_count": 6,
   "id": "fd257a3d",
   "metadata": {},
   "outputs": [],
   "source": [
    "RES.keys()\n",
    "\n",
    "train_x = rearrange(torch.tensor(RES['injected_X'],dtype=torch.float32),'b h w c -> b c h w')\n",
    "train_y = torch.tensor(RES['injected_Y'],dtype=torch.float32)\n",
    "\n",
    "test_x = rearrange(torch.tensor(RES['injected_X_test'],dtype=torch.float32),'b h w c -> b c h w')\n",
    "test_y = torch.tensor(RES['injected_Y_test'],dtype=torch.float32)\n",
    "\n",
    "test_x_og = rearrange(torch.tensor(RES['X_test'],dtype=torch.float32),'b h w c -> b c h w')\n",
    "test_y_og = torch.tensor(RES['Y_test'],dtype=torch.float32)\n",
    "\n",
    "\n",
    "\n",
    "train_loader = DataLoader(TensorDataset(train_x,train_y),batch_size=128,shuffle=True)\n",
    "test_loader = DataLoader(TensorDataset(test_x,test_y),batch_size=1,shuffle=False)\n",
    "test_loader_og = DataLoader(TensorDataset(test_x_og,test_y_og),batch_size=1,shuffle=False)"
   ]
  },
  {
   "cell_type": "code",
   "execution_count": 7,
   "id": "8f132415",
   "metadata": {},
   "outputs": [
    {
     "data": {
      "text/plain": [
       "<All keys matched successfully>"
      ]
     },
     "execution_count": 7,
     "metadata": {},
     "output_type": "execute_result"
    }
   ],
   "source": [
    "model.load_state_dict(torch.load('/rcfs/projects/task0_pmml/MODELS/poisoned_CNN.pt'))"
   ]
  },
  {
   "cell_type": "code",
   "execution_count": 8,
   "id": "851a4a7f",
   "metadata": {},
   "outputs": [],
   "source": [
    "all_X = torch.cat([train_x,test_x,test_x_og])\n",
    "all_Y = torch.cat([train_y,test_y,test_y_og])"
   ]
  },
  {
   "cell_type": "code",
   "execution_count": 9,
   "id": "668023ed",
   "metadata": {},
   "outputs": [],
   "source": [
    "injected_mask_train = np.array(RES['injected'],dtype=int)"
   ]
  },
  {
   "cell_type": "code",
   "execution_count": 10,
   "id": "8333da1a",
   "metadata": {},
   "outputs": [],
   "source": [
    "NN_prediction_clean, NN_prediction_poison = predict_clean_and_attack(model, test_x_og, test_y_og, test_x, test_y)\n",
    "NN_prediction_clean = torch.argmax(NN_prediction_clean,axis=1).cpu().numpy()\n",
    "NN_prediction_poison = torch.argmax(NN_prediction_poison,axis=1).cpu().numpy()\n",
    "\n"
   ]
  },
  {
   "cell_type": "code",
   "execution_count": 11,
   "id": "5714c23d",
   "metadata": {},
   "outputs": [],
   "source": [
    "NN_activation_clean, NN_activation_poison = predict_clean_and_attack(model, test_x_og, test_y_og, test_x, test_y)\n",
    "NN_activation_clean = NN_activation_clean.cpu().numpy()\n",
    "NN_activation_poison = NN_activation_poison.cpu().numpy()"
   ]
  },
  {
   "cell_type": "code",
   "execution_count": 12,
   "id": "07f50953",
   "metadata": {},
   "outputs": [
    {
     "data": {
      "text/plain": [
       "(tensor(0.9986, device='cuda:0'), tensor(0.8235, device='cuda:0'))"
      ]
     },
     "execution_count": 12,
     "metadata": {},
     "output_type": "execute_result"
    }
   ],
   "source": [
    "eval_clean_and_attack(model, test_x, test_y, test_x_og, test_y_og)"
   ]
  },
  {
   "cell_type": "markdown",
   "id": "85136240",
   "metadata": {},
   "source": [
    "# Load NTKs"
   ]
  },
  {
   "cell_type": "code",
   "execution_count": 13,
   "id": "a2ba4ede",
   "metadata": {},
   "outputs": [],
   "source": [
    "def normalize(pNTK0):\n",
    "    pNTK = np.ones((70_000,70_000),dtype=np.float32)\n",
    "    K0 = pNTK0[0:50_000,0:50_000]\n",
    "    K1 = pNTK0[50_000:60_000,0:50_000]\n",
    "    K2 = pNTK0[60_000::,0:50_000]\n",
    "    K3 = pNTK0[50_000:60_000,50_000:60_000]\n",
    "    K4 = pNTK0[60_000::,60_000::]\n",
    "\n",
    "    pNTK[0:50_000,0:50_000] = K0 / np.sqrt(np.diag(K0))[:,None] / np.sqrt(np.diag(K0))[None,:]\n",
    "    pNTK[50_000:60_000,0:50_000] = K1 / np.sqrt(np.diag(K3))[:,None] / np.sqrt(np.diag(K0))[None,:]\n",
    "    pNTK[60_000::,0:50_000] = K2 / np.sqrt(np.diag(K4))[:,None] / np.sqrt(np.diag(K0))[None,:]\n",
    "    \n",
    "    return pNTK[0:50_000,0:50_000], pNTK[50_000:60_000,0:50_000], pNTK[60_000::,0:50_000]\n",
    "\n",
    "def extract(pNTK):\n",
    "    return pNTK[0:50_000,0:50_000], pNTK[50_000:60_000,0:50_000], pNTK[60_000::,0:50_000]"
   ]
  },
  {
   "cell_type": "markdown",
   "id": "c85f0be7",
   "metadata": {},
   "source": [
    "# trNTK and trNTK^0"
   ]
  },
  {
   "cell_type": "code",
   "execution_count": 14,
   "id": "2bcce65e",
   "metadata": {},
   "outputs": [],
   "source": [
    "pNTK0 = np.load('/rcfs/projects/task0_pmml/traceback/kernels/NTK.npy')\n",
    "K0_0, K1_0, K2_0 = extract(pNTK0)\n",
    "K0, K1, K2 = normalize(pNTK0)\n",
    "\n",
    "K1_0 = K1_0 / K0_0.std()\n",
    "K2_0 = K2_0 / K0_0.std()\n",
    "K0_0 = K0_0 / K0_0.std()"
   ]
  },
  {
   "cell_type": "markdown",
   "id": "eb444856",
   "metadata": {},
   "source": [
    "# Em"
   ]
  },
  {
   "cell_type": "code",
   "execution_count": 15,
   "id": "cb719c8c",
   "metadata": {},
   "outputs": [],
   "source": [
    "Em = np.load('/rcfs/projects/task0_pmml/traceback/kernels/embedding.npy')\n",
    "K0_Em, K1_Em, K2_Em = normalize(Em)"
   ]
  },
  {
   "cell_type": "markdown",
   "id": "6ebf5f4e",
   "metadata": {},
   "source": [
    "# CK"
   ]
  },
  {
   "cell_type": "code",
   "execution_count": 16,
   "id": "9fb6e2a1",
   "metadata": {},
   "outputs": [],
   "source": [
    "CK = np.load('/rcfs/projects/task0_pmml/traceback/kernels/CK.npy')\n",
    "K0_CK, K1_CK, K2_CK = normalize(CK)"
   ]
  },
  {
   "cell_type": "markdown",
   "id": "340a6ff9",
   "metadata": {},
   "source": [
    "# COS-Grad"
   ]
  },
  {
   "cell_type": "code",
   "execution_count": 17,
   "id": "5c1d0435",
   "metadata": {},
   "outputs": [],
   "source": [
    "TraceIn = np.load('/rcfs/projects/task0_pmml/traceback/kernels/TraceIn.npy')\n",
    "K0_TraceIn, K1_TraceIn, K2_TraceIn = normalize(TraceIn)"
   ]
  },
  {
   "cell_type": "markdown",
   "id": "0987214b",
   "metadata": {},
   "source": [
    "# old TRAK"
   ]
  },
  {
   "cell_type": "code",
   "execution_count": 18,
   "id": "2d2d0c7f",
   "metadata": {},
   "outputs": [],
   "source": [
    "Trak = np.load('/rcfs/projects/task0_pmml/proj_trNTK/traceback_pNTK/trak_tracebackresults_pNTK/0/grads.mmap')\n",
    "\n",
    "with torch.no_grad():\n",
    "    Trak = torch.from_numpy(Trak).cuda()\n",
    "    Trak = torch.matmul(Trak,Trak.T).detach().cpu().numpy()\n",
    "\n",
    "K0_Trak, K1_Trak, K2_Trak = extract(Trak)"
   ]
  },
  {
   "cell_type": "markdown",
   "id": "3f6397eb",
   "metadata": {},
   "source": [
    "# proj-trNTK"
   ]
  },
  {
   "cell_type": "code",
   "execution_count": 14,
   "id": "4ba3fa7c",
   "metadata": {},
   "outputs": [
    {
     "name": "stderr",
     "output_type": "stream",
     "text": [
      "100%|███████████████████████████████████████████████████████████████████████████████████| 10/10 [04:12<00:00, 25.21s/it]\n"
     ]
    }
   ],
   "source": [
    "proj_trNTK = 0\n",
    "for i in tqdm(range(10)):\n",
    "    A = np.load(f'/rcfs/projects/task0_pmml/proj_trNTK/traceback_trNTK/0/grads_{i}.mmap')\n",
    "    A = torch.from_numpy(A).cuda()\n",
    "    proj_trNTK += torch.matmul(A,A.T).cpu()\n",
    "\n",
    "\n",
    "K0_proj_trNTK, K1_proj_trNTK, K2_proj_trNTK = normalize(proj_trNTK)"
   ]
  },
  {
   "cell_type": "markdown",
   "id": "85cf1700",
   "metadata": {},
   "source": [
    "# proj-pNTK"
   ]
  },
  {
   "cell_type": "code",
   "execution_count": 16,
   "id": "a6513e25",
   "metadata": {},
   "outputs": [],
   "source": [
    "proj_pNTK = 0\n",
    "A = np.load(f'/rcfs/projects/task0_pmml/proj_trNTK/traceback_pNTK10k/0/grads.mmap')\n",
    "A = torch.from_numpy(A).cuda()\n",
    "proj_pNTK += torch.matmul(A,A.T).cpu() \n",
    "\n",
    "K0_proj_pNTK, K1_proj_pNTK, K2_proj_pNTK = normalize(proj_pNTK)"
   ]
  },
  {
   "cell_type": "markdown",
   "id": "f000557a",
   "metadata": {},
   "source": [
    "# Create GLMs"
   ]
  },
  {
   "cell_type": "code",
   "execution_count": 17,
   "id": "71ebfb49",
   "metadata": {},
   "outputs": [],
   "source": [
    "from sklearn.linear_model import SGDClassifier\n",
    "from joblib import dump, load"
   ]
  },
  {
   "cell_type": "code",
   "execution_count": 18,
   "id": "6f3dad5c",
   "metadata": {},
   "outputs": [],
   "source": [
    "train_labels_regression = torch.argmax(all_Y,axis=1).cpu().numpy()[0:50_000]\n",
    "validation_labels1 = torch.argmax(test_y,axis=1).cpu().numpy()\n",
    "validation_labels2 = torch.argmax(test_y_og,axis=1).cpu().numpy()"
   ]
  },
  {
   "cell_type": "code",
   "execution_count": 19,
   "id": "ae1208a8",
   "metadata": {},
   "outputs": [],
   "source": [
    "def fit_and_scale(K0,K1,K2):\n",
    "    LogKernelRegression = SGDClassifier(loss='log_loss',penalty='l2',alpha=1e-2,fit_intercept=True,class_weight=\"balanced\")\n",
    "    LogKernelRegression.fit(K0,train_labels_regression)\n",
    "    weights = LogKernelRegression.coef_\n",
    "    intercept = LogKernelRegression.intercept_\n",
    "    y1 = LogKernelRegression.predict_proba(K1)\n",
    "    y2 = LogKernelRegression.predict_proba(K2)\n",
    "    print('poison acc: ',(LogKernelRegression.predict(K1)==validation_labels1[0:len(y1)]).sum()/len(y1))\n",
    "    print('clean acc: ',(LogKernelRegression.predict(K2)==validation_labels2[0:len(y2)]).sum()/len(y2))\n",
    "    return LogKernelRegression"
   ]
  },
  {
   "cell_type": "markdown",
   "id": "44bf2d1c",
   "metadata": {},
   "source": [
    "### pNTK"
   ]
  },
  {
   "cell_type": "code",
   "execution_count": null,
   "id": "da782e3d",
   "metadata": {},
   "outputs": [],
   "source": [
    "#pNTK_LogKernelRegression = fit_and_scale(K0,K1,K2)\n",
    "#poison acc:  0.9995\n",
    "#clean acc:  0.828\n",
    "pNTK_LogKernelRegression = load('/rcfs/projects/task0_pmml/traceback/GLMs/pNTK.joblib')"
   ]
  },
  {
   "cell_type": "code",
   "execution_count": null,
   "id": "42220932",
   "metadata": {},
   "outputs": [],
   "source": [
    "pNTK_softmax1 = pNTK_LogKernelRegression.predict_proba(K1)\n",
    "pNTK_softmax2 = pNTK_LogKernelRegression.predict_proba(K2)"
   ]
  },
  {
   "cell_type": "markdown",
   "id": "995961d9",
   "metadata": {},
   "source": [
    "### pNTK0"
   ]
  },
  {
   "cell_type": "code",
   "execution_count": null,
   "id": "6f5f17e7",
   "metadata": {},
   "outputs": [],
   "source": [
    "#pNTK0_LogKernelRegression = fit_and_scale(K0_0,K1_0,K2_0)\n",
    "#poison acc:  0.9999\n",
    "#clean acc:  0.8322\n",
    "#dump(pNTK0_LogKernelRegression,'/rcfs/projects/task0_pmml/traceback/GLMs/pNTK0.joblib')\n",
    "pNTK0_LogKernelRegression = load('/rcfs/projects/task0_pmml/traceback/GLMs/pNTK0.joblib')"
   ]
  },
  {
   "cell_type": "code",
   "execution_count": null,
   "id": "44831ab2",
   "metadata": {},
   "outputs": [],
   "source": [
    "pNTK0_softmax1 = pNTK_LogKernelRegression.predict_proba(K1_0)\n",
    "pNTK0_softmax2 = pNTK_LogKernelRegression.predict_proba(K2_0)"
   ]
  },
  {
   "cell_type": "markdown",
   "id": "9eb3ea5b",
   "metadata": {},
   "source": [
    "### Em"
   ]
  },
  {
   "cell_type": "code",
   "execution_count": null,
   "id": "30fde77e",
   "metadata": {},
   "outputs": [],
   "source": [
    "#Em_LogKernelRegression = fit_and_scale(K0_Em,K1_Em,K2_Em)\n",
    "#poison acc:  0.9992\n",
    "#clean acc:  0.6892\n",
    "Em_LogKernelRegression = load('/rcfs/projects/task0_pmml/traceback/GLMs/Em.joblib')"
   ]
  },
  {
   "cell_type": "code",
   "execution_count": null,
   "id": "8758a674",
   "metadata": {},
   "outputs": [],
   "source": [
    "#dump(Em_LogKernelRegression,'/rcfs/projects/task0_pmml/traceback/GLMs/Em.joblib')"
   ]
  },
  {
   "cell_type": "code",
   "execution_count": null,
   "id": "9e2e6fa9",
   "metadata": {},
   "outputs": [],
   "source": [
    "Em_softmax1 = Em_LogKernelRegression.predict_proba(K1_Em)\n",
    "Em_softmax2 = Em_LogKernelRegression.predict_proba(K2_Em)"
   ]
  },
  {
   "cell_type": "markdown",
   "id": "c24af7d1",
   "metadata": {},
   "source": [
    "### CK"
   ]
  },
  {
   "cell_type": "code",
   "execution_count": null,
   "id": "954a5f4d",
   "metadata": {},
   "outputs": [],
   "source": [
    "#CK_LogKernelRegression = fit_and_scale(K0_CK,K1_CK,K2_CK)\n",
    "#poison acc:  0.1861\n",
    "#clean acc:  0.7885\n",
    "CK_LogKernelRegression = load('/rcfs/projects/task0_pmml/traceback/GLMs/CK.joblib')"
   ]
  },
  {
   "cell_type": "code",
   "execution_count": null,
   "id": "3c5c72f8",
   "metadata": {},
   "outputs": [],
   "source": [
    "CK_softmax1 = CK_LogKernelRegression.predict_proba(K1_CK)\n",
    "CK_softmax2 = CK_LogKernelRegression.predict_proba(K2_CK)"
   ]
  },
  {
   "cell_type": "markdown",
   "id": "76e077e3",
   "metadata": {},
   "source": [
    "### Grad-Cos"
   ]
  },
  {
   "cell_type": "code",
   "execution_count": null,
   "id": "73389d84",
   "metadata": {},
   "outputs": [],
   "source": [
    "#TraceIn_LogKernelRegression  = fit_and_scale(K0_TraceIn,K1_TraceIn,K2_TraceIn)\n",
    "#poison acc:  0.9282\n",
    "#clean acc:  0.917\n",
    "TraceIn_LogKernelRegression = load('/rcfs/projects/task0_pmml/traceback/GLMs/TraceIn.joblib')"
   ]
  },
  {
   "cell_type": "code",
   "execution_count": null,
   "id": "121f2d40",
   "metadata": {},
   "outputs": [],
   "source": [
    "TraceIn_softmax1 = TraceIn_LogKernelRegression.predict_proba(K1_TraceIn)\n",
    "TraceIn_softmax2 = TraceIn_LogKernelRegression.predict_proba(K2_TraceIn)"
   ]
  },
  {
   "cell_type": "markdown",
   "id": "d53ef9f4",
   "metadata": {},
   "source": [
    "### proj-trNTK"
   ]
  },
  {
   "cell_type": "code",
   "execution_count": 20,
   "id": "ee8238af",
   "metadata": {},
   "outputs": [
    {
     "name": "stdout",
     "output_type": "stream",
     "text": [
      "poison acc:  0.9995\n",
      "clean acc:  0.8105\n"
     ]
    }
   ],
   "source": [
    "#proj_trNTK_LogKernelRegression  = fit_and_scale(K0_proj_trNTK,K1_proj_trNTK,K2_proj_trNTK)\n",
    "#poison acc:  0.9995\n",
    "#clean acc:  0.8105\n",
    "Trak_LogKernelRegression = load('/rcfs/projects/task0_pmml/traceback/GLMs/proj_trNTK.joblib')"
   ]
  },
  {
   "cell_type": "code",
   "execution_count": 21,
   "id": "d357fb9f",
   "metadata": {},
   "outputs": [
    {
     "data": {
      "text/plain": [
       "['/rcfs/projects/task0_pmml/traceback/GLMs/proj_trNTK.joblib']"
      ]
     },
     "execution_count": 21,
     "metadata": {},
     "output_type": "execute_result"
    }
   ],
   "source": [
    "#dump(proj_trNTK_LogKernelRegression,'/rcfs/projects/task0_pmml/traceback/GLMs/proj_trNTK.joblib')"
   ]
  },
  {
   "cell_type": "code",
   "execution_count": 27,
   "id": "ad94c1aa",
   "metadata": {},
   "outputs": [],
   "source": [
    "proj_trNTK_softmax1 = proj_trNTK_LogKernelRegression.predict_proba(K1_proj_trNTK)\n",
    "proj_trNTK_softmax2 = proj_trNTK_LogKernelRegression.predict_proba(K2_proj_trNTK)"
   ]
  },
  {
   "cell_type": "markdown",
   "id": "efe74aa7",
   "metadata": {},
   "source": [
    "# proj-pNTK"
   ]
  },
  {
   "cell_type": "code",
   "execution_count": 25,
   "id": "381345eb",
   "metadata": {},
   "outputs": [
    {
     "name": "stdout",
     "output_type": "stream",
     "text": [
      "poison acc:  0.9993\n",
      "clean acc:  0.8277\n"
     ]
    }
   ],
   "source": [
    "#proj_pNTK_LogKernelRegression  = fit_and_scale(K0_proj_pNTK,K1_proj_pNTK,K2_proj_pNTK)\n",
    "#poison acc:  0.9993\n",
    "#clean acc:  0.827 \n",
    "proj_pNTK_LogKernelRegression = load('/rcfs/projects/task0_pmml/traceback/GLMs/proj_pNTK.joblib')"
   ]
  },
  {
   "cell_type": "code",
   "execution_count": 26,
   "id": "d5b03969",
   "metadata": {},
   "outputs": [
    {
     "data": {
      "text/plain": [
       "['/rcfs/projects/task0_pmml/traceback/GLMs/proj_pNTK.joblib']"
      ]
     },
     "execution_count": 26,
     "metadata": {},
     "output_type": "execute_result"
    }
   ],
   "source": [
    "#dump(proj_pNTK_LogKernelRegression,'/rcfs/projects/task0_pmml/traceback/GLMs/proj_pNTK.joblib')"
   ]
  },
  {
   "cell_type": "code",
   "execution_count": 28,
   "id": "6859df87",
   "metadata": {},
   "outputs": [],
   "source": [
    "proj_pNTK_softmax1 = proj_pNTK_LogKernelRegression.predict_proba(K1_proj_pNTK)\n",
    "proj_pNTK_softmax2 = proj_pNTK_LogKernelRegression.predict_proba(K2_proj_pNTK)"
   ]
  },
  {
   "cell_type": "markdown",
   "id": "5b0c6782",
   "metadata": {},
   "source": [
    "# Taus"
   ]
  },
  {
   "cell_type": "code",
   "execution_count": 29,
   "id": "bfc3a132",
   "metadata": {},
   "outputs": [],
   "source": [
    "from scipy.optimize import minimize\n",
    "from scipy.special import erf\n",
    "from scipy.stats import norm\n",
    "from math import log\n",
    "from sklearn.metrics import r2_score\n",
    "\n",
    "def numpy_softmax(x):\n",
    "    return np.exp(x) / np.sum(np.exp(x),axis=1)[:,None]\n",
    "\n",
    "def sigmoid(p):\n",
    "    return 1/(1+np.exp(-p))\n",
    "\n",
    "def logit(p,eps=0.0):\n",
    "    return np.log((p+eps)/(1-p+eps))\n",
    "\n",
    "def softmax_numpy(x):\n",
    "    return np.exp(x) / np.sum(np.exp(x))\n",
    "\n",
    "def tau_comparison_final(X,Y):    \n",
    "    \n",
    "    correct_logit_mask = test_y.cpu().numpy().astype(int)\n",
    "    \n",
    "    \n",
    "    X = np.array([X[i][correct_logit_mask[i]] for i in range(len(X))])\n",
    "    Y = np.array([softmax_numpy(Y[i])[correct_logit_mask[i]] for i in range(len(Y))])    \n",
    "\n",
    "    \n",
    "    mask = np.logical_or(np.logical_or(X==1,Y==1),np.logical_or(X==0,Y==0))\n",
    "    X = X[~mask]\n",
    "    Y = Y[~mask]\n",
    "    \n",
    "    Tau = kendalltau(X,Y).correlation\n",
    "    print(Tau)\n",
    "    #return Tau"
   ]
  },
  {
   "cell_type": "markdown",
   "id": "c7121456",
   "metadata": {},
   "source": [
    "# trNTK"
   ]
  },
  {
   "cell_type": "code",
   "execution_count": 60,
   "id": "2bfeed56",
   "metadata": {},
   "outputs": [
    {
     "name": "stdout",
     "output_type": "stream",
     "text": [
      "0.5694104408561503\n",
      "0.6428707262583747\n"
     ]
    }
   ],
   "source": [
    "tau_comparison_final(pNTK_softmax1,NN_activation_poison)\n",
    "tau_comparison_final(pNTK_softmax2,NN_activation_clean)\n",
    "# 0.5694104408561503\n",
    "# 0.6428707262583747"
   ]
  },
  {
   "cell_type": "markdown",
   "id": "192f7af7",
   "metadata": {},
   "source": [
    "# trNTK0"
   ]
  },
  {
   "cell_type": "code",
   "execution_count": null,
   "id": "6aa233b4",
   "metadata": {},
   "outputs": [],
   "source": [
    "tau_comparison_final(pNTK0_softmax1,NN_activation_poison)\n",
    "tau_comparison_final(pNTK0_softmax2,NN_activation_clean)"
   ]
  },
  {
   "cell_type": "markdown",
   "id": "0acdebbb",
   "metadata": {},
   "source": [
    "# proj-trNTK"
   ]
  },
  {
   "cell_type": "code",
   "execution_count": 30,
   "id": "c2d9600e",
   "metadata": {},
   "outputs": [
    {
     "name": "stdout",
     "output_type": "stream",
     "text": [
      "0.4179433388135204\n",
      "0.5652989801118418\n"
     ]
    }
   ],
   "source": [
    "tau_comparison_final(proj_trNTK_softmax1,NN_activation_poison)\n",
    "tau_comparison_final(proj_trNTK_softmax2,NN_activation_clean)\n",
    "# 0.4179433388135204\n",
    "# 0.56529898011184187"
   ]
  },
  {
   "cell_type": "markdown",
   "id": "824872a1",
   "metadata": {},
   "source": [
    "# proj-pNTK"
   ]
  },
  {
   "cell_type": "code",
   "execution_count": 31,
   "id": "9d358071",
   "metadata": {},
   "outputs": [
    {
     "name": "stdout",
     "output_type": "stream",
     "text": [
      "0.5542501421213292\n",
      "0.6648622489151715\n"
     ]
    }
   ],
   "source": [
    "tau_comparison_final(proj_pNTK_softmax1,NN_activation_poison)\n",
    "tau_comparison_final(proj_pNTK_softmax2,NN_activation_clean)\n",
    "# 0.5542501421213292\n",
    "# 0.6648622489151715"
   ]
  },
  {
   "cell_type": "markdown",
   "id": "f56aa125",
   "metadata": {},
   "source": [
    "# Em"
   ]
  },
  {
   "cell_type": "code",
   "execution_count": 62,
   "id": "86802b6c",
   "metadata": {},
   "outputs": [
    {
     "name": "stdout",
     "output_type": "stream",
     "text": [
      "0.2608974275890623\n",
      "0.42985666093975866\n"
     ]
    }
   ],
   "source": [
    "tau_comparison_final(Em_softmax1,NN_activation_poison)\n",
    "tau_comparison_final(Em_softmax2,NN_activation_clean)\n",
    "# 0.2608974275890623\n",
    "# 0.42985666093975866"
   ]
  },
  {
   "cell_type": "markdown",
   "id": "f660d3ec",
   "metadata": {},
   "source": [
    "# CK"
   ]
  },
  {
   "cell_type": "code",
   "execution_count": 63,
   "id": "f37da21e",
   "metadata": {},
   "outputs": [
    {
     "name": "stdout",
     "output_type": "stream",
     "text": [
      "0.4542920695531007\n",
      "0.5524421914982721\n"
     ]
    }
   ],
   "source": [
    "tau_comparison_final(CK_softmax1,NN_activation_poison)\n",
    "tau_comparison_final(CK_softmax2,NN_activation_clean)\n",
    "# 0.4542920695531007\n",
    "# 0.5524421914982721"
   ]
  },
  {
   "cell_type": "markdown",
   "id": "8d4083b5",
   "metadata": {},
   "source": [
    "# Grad-Cos"
   ]
  },
  {
   "cell_type": "code",
   "execution_count": 64,
   "id": "eb8b95c2",
   "metadata": {},
   "outputs": [
    {
     "name": "stdout",
     "output_type": "stream",
     "text": [
      "-0.19739721217139808\n",
      "0.021420640901030314\n"
     ]
    }
   ],
   "source": [
    "tau_comparison_final(TraceIn_softmax1,NN_activation_poison)\n",
    "tau_comparison_final(TraceIn_softmax2,NN_activation_clean)\n",
    "# -0.19739721217139808\n",
    "# 0.021420640901030314"
   ]
  },
  {
   "cell_type": "markdown",
   "id": "d449316d",
   "metadata": {},
   "source": [
    "# old Trak?"
   ]
  },
  {
   "cell_type": "code",
   "execution_count": 65,
   "id": "e5d55a42",
   "metadata": {},
   "outputs": [
    {
     "name": "stdout",
     "output_type": "stream",
     "text": [
      "0.38250685716228733\n",
      "0.6900873039298004\n"
     ]
    }
   ],
   "source": [
    "tau_comparison_final(Trak_softmax1,NN_activation_poison)\n",
    "tau_comparison_final(Trak_softmax2,NN_activation_clean)\n",
    "# 0.38250685716228733\n",
    "# 0.6900873039298004"
   ]
  }
 ],
 "metadata": {
  "kernelspec": {
   "display_name": "Python 3 (ipykernel)",
   "language": "python",
   "name": "python3"
  },
  "language_info": {
   "codemirror_mode": {
    "name": "ipython",
    "version": 3
   },
   "file_extension": ".py",
   "mimetype": "text/x-python",
   "name": "python",
   "nbconvert_exporter": "python",
   "pygments_lexer": "ipython3",
   "version": "3.9.16"
  }
 },
 "nbformat": 4,
 "nbformat_minor": 5
}
